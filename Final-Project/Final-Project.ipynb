{
  "cells": [
    {
      "cell_type": "markdown",
      "metadata": {
        "id": "j2w1EwqPkou1"
      },
      "source": [
        "set up our environment by installing and importing the required libraries:"
      ]
    },
    {
      "cell_type": "code",
      "execution_count": 1,
      "metadata": {
        "colab": {
          "base_uri": "https://localhost:8080/"
        },
        "id": "K9fBTMxhklQE",
        "outputId": "ea161628-4715-4451-f2d5-0e90e5dfe785"
      },
      "outputs": [
        {
          "name": "stdout",
          "output_type": "stream",
          "text": [
            "Requirement already satisfied: pypdf in /home/sysadmin/anaconda3/envs/llmops-course/lib/python3.11/site-packages (4.1.0)\n",
            "Requirement already satisfied: langchain in /home/sysadmin/anaconda3/envs/llmops-course/lib/python3.11/site-packages (0.1.11)\n",
            "Requirement already satisfied: PyYAML>=5.3 in /home/sysadmin/anaconda3/envs/llmops-course/lib/python3.11/site-packages (from langchain) (6.0.1)\n",
            "Requirement already satisfied: SQLAlchemy<3,>=1.4 in /home/sysadmin/anaconda3/envs/llmops-course/lib/python3.11/site-packages (from langchain) (2.0.28)\n",
            "Requirement already satisfied: aiohttp<4.0.0,>=3.8.3 in /home/sysadmin/anaconda3/envs/llmops-course/lib/python3.11/site-packages (from langchain) (3.9.3)\n",
            "Requirement already satisfied: dataclasses-json<0.7,>=0.5.7 in /home/sysadmin/anaconda3/envs/llmops-course/lib/python3.11/site-packages (from langchain) (0.5.14)\n",
            "Requirement already satisfied: jsonpatch<2.0,>=1.33 in /home/sysadmin/anaconda3/envs/llmops-course/lib/python3.11/site-packages (from langchain) (1.33)\n",
            "Requirement already satisfied: langchain-community<0.1,>=0.0.25 in /home/sysadmin/anaconda3/envs/llmops-course/lib/python3.11/site-packages (from langchain) (0.0.27)\n",
            "Requirement already satisfied: langchain-core<0.2,>=0.1.29 in /home/sysadmin/anaconda3/envs/llmops-course/lib/python3.11/site-packages (from langchain) (0.1.30)\n",
            "Requirement already satisfied: langchain-text-splitters<0.1,>=0.0.1 in /home/sysadmin/anaconda3/envs/llmops-course/lib/python3.11/site-packages (from langchain) (0.0.1)\n",
            "Requirement already satisfied: langsmith<0.2.0,>=0.1.17 in /home/sysadmin/anaconda3/envs/llmops-course/lib/python3.11/site-packages (from langchain) (0.1.21)\n",
            "Requirement already satisfied: numpy<2,>=1 in /home/sysadmin/anaconda3/envs/llmops-course/lib/python3.11/site-packages (from langchain) (1.26.4)\n",
            "Requirement already satisfied: pydantic<3,>=1 in /home/sysadmin/anaconda3/envs/llmops-course/lib/python3.11/site-packages (from langchain) (1.10.11)\n",
            "Requirement already satisfied: requests<3,>=2 in /home/sysadmin/anaconda3/envs/llmops-course/lib/python3.11/site-packages (from langchain) (2.31.0)\n",
            "Requirement already satisfied: tenacity<9.0.0,>=8.1.0 in /home/sysadmin/anaconda3/envs/llmops-course/lib/python3.11/site-packages (from langchain) (8.2.3)\n",
            "Requirement already satisfied: aiosignal>=1.1.2 in /home/sysadmin/anaconda3/envs/llmops-course/lib/python3.11/site-packages (from aiohttp<4.0.0,>=3.8.3->langchain) (1.3.1)\n",
            "Requirement already satisfied: attrs>=17.3.0 in /home/sysadmin/anaconda3/envs/llmops-course/lib/python3.11/site-packages (from aiohttp<4.0.0,>=3.8.3->langchain) (23.2.0)\n",
            "Requirement already satisfied: frozenlist>=1.1.1 in /home/sysadmin/anaconda3/envs/llmops-course/lib/python3.11/site-packages (from aiohttp<4.0.0,>=3.8.3->langchain) (1.4.1)\n",
            "Requirement already satisfied: multidict<7.0,>=4.5 in /home/sysadmin/anaconda3/envs/llmops-course/lib/python3.11/site-packages (from aiohttp<4.0.0,>=3.8.3->langchain) (6.0.5)\n",
            "Requirement already satisfied: yarl<2.0,>=1.0 in /home/sysadmin/anaconda3/envs/llmops-course/lib/python3.11/site-packages (from aiohttp<4.0.0,>=3.8.3->langchain) (1.9.4)\n",
            "Requirement already satisfied: marshmallow<4.0.0,>=3.18.0 in /home/sysadmin/anaconda3/envs/llmops-course/lib/python3.11/site-packages (from dataclasses-json<0.7,>=0.5.7->langchain) (3.20.2)\n",
            "Requirement already satisfied: typing-inspect<1,>=0.4.0 in /home/sysadmin/anaconda3/envs/llmops-course/lib/python3.11/site-packages (from dataclasses-json<0.7,>=0.5.7->langchain) (0.9.0)\n",
            "Requirement already satisfied: jsonpointer>=1.9 in /home/sysadmin/anaconda3/envs/llmops-course/lib/python3.11/site-packages (from jsonpatch<2.0,>=1.33->langchain) (2.4)\n",
            "Requirement already satisfied: anyio<5,>=3 in /home/sysadmin/anaconda3/envs/llmops-course/lib/python3.11/site-packages (from langchain-core<0.2,>=0.1.29->langchain) (3.7.1)\n",
            "Requirement already satisfied: packaging<24.0,>=23.2 in /home/sysadmin/anaconda3/envs/llmops-course/lib/python3.11/site-packages (from langchain-core<0.2,>=0.1.29->langchain) (23.2)\n",
            "Requirement already satisfied: orjson<4.0.0,>=3.9.14 in /home/sysadmin/anaconda3/envs/llmops-course/lib/python3.11/site-packages (from langsmith<0.2.0,>=0.1.17->langchain) (3.9.15)\n",
            "Requirement already satisfied: typing-extensions>=4.2.0 in /home/sysadmin/anaconda3/envs/llmops-course/lib/python3.11/site-packages (from pydantic<3,>=1->langchain) (4.9.0)\n",
            "Requirement already satisfied: charset-normalizer<4,>=2 in /home/sysadmin/anaconda3/envs/llmops-course/lib/python3.11/site-packages (from requests<3,>=2->langchain) (3.3.2)\n",
            "Requirement already satisfied: idna<4,>=2.5 in /home/sysadmin/anaconda3/envs/llmops-course/lib/python3.11/site-packages (from requests<3,>=2->langchain) (3.6)\n",
            "Requirement already satisfied: urllib3<3,>=1.21.1 in /home/sysadmin/anaconda3/envs/llmops-course/lib/python3.11/site-packages (from requests<3,>=2->langchain) (2.2.1)\n",
            "Requirement already satisfied: certifi>=2017.4.17 in /home/sysadmin/anaconda3/envs/llmops-course/lib/python3.11/site-packages (from requests<3,>=2->langchain) (2024.2.2)\n",
            "Requirement already satisfied: greenlet!=0.4.17 in /home/sysadmin/anaconda3/envs/llmops-course/lib/python3.11/site-packages (from SQLAlchemy<3,>=1.4->langchain) (3.0.3)\n",
            "Requirement already satisfied: sniffio>=1.1 in /home/sysadmin/anaconda3/envs/llmops-course/lib/python3.11/site-packages (from anyio<5,>=3->langchain-core<0.2,>=0.1.29->langchain) (1.3.0)\n",
            "Requirement already satisfied: mypy-extensions>=0.3.0 in /home/sysadmin/anaconda3/envs/llmops-course/lib/python3.11/site-packages (from typing-inspect<1,>=0.4.0->dataclasses-json<0.7,>=0.5.7->langchain) (1.0.0)\n",
            "Requirement already satisfied: langchain_openai in /home/sysadmin/anaconda3/envs/llmops-course/lib/python3.11/site-packages (0.0.8)\n",
            "Requirement already satisfied: langchain-core<0.2.0,>=0.1.27 in /home/sysadmin/anaconda3/envs/llmops-course/lib/python3.11/site-packages (from langchain_openai) (0.1.30)\n",
            "Requirement already satisfied: openai<2.0.0,>=1.10.0 in /home/sysadmin/anaconda3/envs/llmops-course/lib/python3.11/site-packages (from langchain_openai) (1.13.3)\n",
            "Requirement already satisfied: tiktoken<1,>=0.5.2 in /home/sysadmin/anaconda3/envs/llmops-course/lib/python3.11/site-packages (from langchain_openai) (0.6.0)\n",
            "Requirement already satisfied: PyYAML>=5.3 in /home/sysadmin/anaconda3/envs/llmops-course/lib/python3.11/site-packages (from langchain-core<0.2.0,>=0.1.27->langchain_openai) (6.0.1)\n",
            "Requirement already satisfied: anyio<5,>=3 in /home/sysadmin/anaconda3/envs/llmops-course/lib/python3.11/site-packages (from langchain-core<0.2.0,>=0.1.27->langchain_openai) (3.7.1)\n",
            "Requirement already satisfied: jsonpatch<2.0,>=1.33 in /home/sysadmin/anaconda3/envs/llmops-course/lib/python3.11/site-packages (from langchain-core<0.2.0,>=0.1.27->langchain_openai) (1.33)\n",
            "Requirement already satisfied: langsmith<0.2.0,>=0.1.0 in /home/sysadmin/anaconda3/envs/llmops-course/lib/python3.11/site-packages (from langchain-core<0.2.0,>=0.1.27->langchain_openai) (0.1.21)\n",
            "Requirement already satisfied: packaging<24.0,>=23.2 in /home/sysadmin/anaconda3/envs/llmops-course/lib/python3.11/site-packages (from langchain-core<0.2.0,>=0.1.27->langchain_openai) (23.2)\n",
            "Requirement already satisfied: pydantic<3,>=1 in /home/sysadmin/anaconda3/envs/llmops-course/lib/python3.11/site-packages (from langchain-core<0.2.0,>=0.1.27->langchain_openai) (1.10.11)\n",
            "Requirement already satisfied: requests<3,>=2 in /home/sysadmin/anaconda3/envs/llmops-course/lib/python3.11/site-packages (from langchain-core<0.2.0,>=0.1.27->langchain_openai) (2.31.0)\n",
            "Requirement already satisfied: tenacity<9.0.0,>=8.1.0 in /home/sysadmin/anaconda3/envs/llmops-course/lib/python3.11/site-packages (from langchain-core<0.2.0,>=0.1.27->langchain_openai) (8.2.3)\n",
            "Requirement already satisfied: distro<2,>=1.7.0 in /home/sysadmin/anaconda3/envs/llmops-course/lib/python3.11/site-packages (from openai<2.0.0,>=1.10.0->langchain_openai) (1.9.0)\n",
            "Requirement already satisfied: httpx<1,>=0.23.0 in /home/sysadmin/anaconda3/envs/llmops-course/lib/python3.11/site-packages (from openai<2.0.0,>=1.10.0->langchain_openai) (0.24.1)\n",
            "Requirement already satisfied: sniffio in /home/sysadmin/anaconda3/envs/llmops-course/lib/python3.11/site-packages (from openai<2.0.0,>=1.10.0->langchain_openai) (1.3.0)\n",
            "Requirement already satisfied: tqdm>4 in /home/sysadmin/anaconda3/envs/llmops-course/lib/python3.11/site-packages (from openai<2.0.0,>=1.10.0->langchain_openai) (4.66.2)\n",
            "Requirement already satisfied: typing-extensions<5,>=4.7 in /home/sysadmin/anaconda3/envs/llmops-course/lib/python3.11/site-packages (from openai<2.0.0,>=1.10.0->langchain_openai) (4.9.0)\n",
            "Requirement already satisfied: regex>=2022.1.18 in /home/sysadmin/anaconda3/envs/llmops-course/lib/python3.11/site-packages (from tiktoken<1,>=0.5.2->langchain_openai) (2023.12.25)\n",
            "Requirement already satisfied: idna>=2.8 in /home/sysadmin/anaconda3/envs/llmops-course/lib/python3.11/site-packages (from anyio<5,>=3->langchain-core<0.2.0,>=0.1.27->langchain_openai) (3.6)\n",
            "Requirement already satisfied: certifi in /home/sysadmin/anaconda3/envs/llmops-course/lib/python3.11/site-packages (from httpx<1,>=0.23.0->openai<2.0.0,>=1.10.0->langchain_openai) (2024.2.2)\n",
            "Requirement already satisfied: httpcore<0.18.0,>=0.15.0 in /home/sysadmin/anaconda3/envs/llmops-course/lib/python3.11/site-packages (from httpx<1,>=0.23.0->openai<2.0.0,>=1.10.0->langchain_openai) (0.17.3)\n",
            "Requirement already satisfied: jsonpointer>=1.9 in /home/sysadmin/anaconda3/envs/llmops-course/lib/python3.11/site-packages (from jsonpatch<2.0,>=1.33->langchain-core<0.2.0,>=0.1.27->langchain_openai) (2.4)\n",
            "Requirement already satisfied: orjson<4.0.0,>=3.9.14 in /home/sysadmin/anaconda3/envs/llmops-course/lib/python3.11/site-packages (from langsmith<0.2.0,>=0.1.0->langchain-core<0.2.0,>=0.1.27->langchain_openai) (3.9.15)\n",
            "Requirement already satisfied: charset-normalizer<4,>=2 in /home/sysadmin/anaconda3/envs/llmops-course/lib/python3.11/site-packages (from requests<3,>=2->langchain-core<0.2.0,>=0.1.27->langchain_openai) (3.3.2)\n",
            "Requirement already satisfied: urllib3<3,>=1.21.1 in /home/sysadmin/anaconda3/envs/llmops-course/lib/python3.11/site-packages (from requests<3,>=2->langchain-core<0.2.0,>=0.1.27->langchain_openai) (2.2.1)\n",
            "Requirement already satisfied: h11<0.15,>=0.13 in /home/sysadmin/anaconda3/envs/llmops-course/lib/python3.11/site-packages (from httpcore<0.18.0,>=0.15.0->httpx<1,>=0.23.0->openai<2.0.0,>=1.10.0->langchain_openai) (0.14.0)\n",
            "\u001b[31mERROR: Could not find a version that satisfies the requirement sqlite3 (from versions: none)\u001b[0m\u001b[31m\n",
            "\u001b[0m\u001b[31mERROR: No matching distribution found for sqlite3\u001b[0m\u001b[31m\n",
            "\u001b[0m"
          ]
        }
      ],
      "source": [
        "!pip install pypdf\n",
        "!pip install langchain\n",
        "!pip install langchain_openai\n",
        "!pip install sqlite3"
      ]
    },
    {
      "cell_type": "code",
      "execution_count": 2,
      "metadata": {
        "id": "oTmIyQukk5Qd"
      },
      "outputs": [],
      "source": [
        "from pypdf import PdfReader\n",
        "from langchain_core.messages import HumanMessage, SystemMessage\n",
        "from langchain_openai import ChatOpenAI"
      ]
    },
    {
      "cell_type": "code",
      "execution_count": 3,
      "metadata": {
        "colab": {
          "base_uri": "https://localhost:8080/"
        },
        "id": "Jv4gKZC7oaRd",
        "outputId": "9bfb0a82-902f-40ec-c35e-e3088502e037"
      },
      "outputs": [],
      "source": [
        "import os\n",
        "import getpass\n",
        "\n",
        "os.environ[\"OPENAI_API_KEY\"] = getpass.getpass(\"OpenAI API Key: \")"
      ]
    },
    {
      "cell_type": "markdown",
      "metadata": {
        "id": "28yrhn5klEUP"
      },
      "source": [
        "PDF parsing: Extracting meaningful content while ignoring less useful information like empty lines, headers, and footers using visitor_text:"
      ]
    },
    {
      "cell_type": "code",
      "execution_count": null,
      "metadata": {
        "colab": {
          "base_uri": "https://localhost:8080/"
        },
        "id": "9Kdy25JtlOKm",
        "outputId": "4e881aeb-1d2e-425e-e4bd-bbdf4dcd04c0"
      },
      "outputs": [],
      "source": [
        "document_content = None\n",
        "\n",
        "def visitor_body(text, cm, tm, fontDict, fontSize):\n",
        "    y = tm[5]\n",
        "    if text and 35 < y < 770:\n",
        "        page_contents.append(text)\n",
        "\n",
        "with open(f'/home/sysadmin/llmops-course/AIE/Final-Project/datasets/pdf/source/ZMP_55852_XBO_1000_W_HS_OFR.pdf', 'rb') as file:\n",
        "    pdf_reader = PdfReader(file)\n",
        "\n",
        "    page_contents = []\n",
        "\n",
        "    for page in pdf_reader.pages:\n",
        "        page.extract_text(visitor_text=visitor_body)\n",
        "\n",
        "    document_content = \"\\n\".join(page_contents)\n",
        "\n",
        "print(document_content)"
      ]
    },
    {
      "cell_type": "code",
      "execution_count": null,
      "metadata": {
        "id": "IxmV_-aclvQw"
      },
      "outputs": [],
      "source": [
        "system_message = \"\"\"You analyze product descriptions to export them into a JSON format. I will present you with a product data sheet and describe the individual JSON objects and properties with <<<. You then create a JSON object from another product data sheet.\n",
        "\n",
        ">>> Example product:\n",
        "\n",
        "Product family benefits <<< benefits (string[])\n",
        "_\n",
        "Short arc with very high luminance for brighter screen illumination <<< benefits.[*]\n",
        "_\n",
        "Constant color temperature of 6,000 K throughout the entire lamp lifetime <<< benefits.[*]\n",
        "\n",
        "[..]\n",
        "\n",
        "_\n",
        "Wide dimming range <<< benefits.[*]\n",
        "Product family features <<< product_family (object)\n",
        "_\n",
        "Color temperature: approx. 6,000 K (Daylight) <<< product_family.temperature = 6000\n",
        "_\n",
        "Wattage: 450…10,000 W <<< product_family.watts_min = 450, product_family.watts_max = 10000\n",
        "_\n",
        "Very good color rendering index: Ra >\n",
        "Product datasheet\n",
        "\n",
        "\n",
        "\n",
        "XBO 1000 W/HS OFR <<< name\n",
        "XBO for cinema projection | Xenon short-arc lamps 450…10,000 W <<< description\n",
        "\n",
        "[..]\n",
        "\n",
        "Technical data\n",
        "Electrical data <<< technical_data (object)\n",
        "Nominal current\n",
        "50 A <<< technical_data.nominal_current = 50.00\n",
        "Current control range\n",
        "30…55 A <<< technical_data.control_range = 30, technical_data.control_range = 55\n",
        "Nominal wattage\n",
        "1000.00 W <<< technical_data.nominal_wattage = 1000.00\n",
        "Nominal voltage\n",
        "19.0 V <<< technical_data.nominal_voltage = 19.0\n",
        "Dimensions & weight <<< dimensions (object)\n",
        "\n",
        "[..]\n",
        "\n",
        "Safe Use Instruction\n",
        "The identification of the Candidate List substance is <<< environmental_information.safe_use (beginning of string)\n",
        "\n",
        "sufficient to allow safe use of the article. <<< environmental_information.safe_use (end of string)\n",
        "Declaration No. in SCIP database\n",
        "22b5c075-11fc-41b0-ad60-dec034d8f30c <<< environmental_information.scip_declaration_number (single string!)\n",
        "Country specific information\n",
        "\n",
        "[..]\n",
        "\n",
        "Shipping carton box\n",
        "\n",
        "1\n",
        "410 mm x 184 mm x <<< packaging_unity.length = 410, packaging_unit.width = 184\n",
        "\n",
        "180 mm <<< packaging_unit.height = 180\n",
        "\n",
        "[..]\n",
        "\"\"\""
      ]
    },
    {
      "cell_type": "code",
      "execution_count": null,
      "metadata": {
        "colab": {
          "base_uri": "https://localhost:8080/"
        },
        "id": "YuAms93Fn-cr",
        "outputId": "e8b6ae20-0d27-4987-db06-6f4a580fd2b2"
      },
      "outputs": [],
      "source": [
        "chat = ChatOpenAI(model_name='gpt-3.5-turbo-0125', temperature=0)\n",
        "\n",
        "def convert_to_json(document_content):\n",
        "    messages = [\n",
        "        SystemMessage(\n",
        "            content=system_message\n",
        "        ),\n",
        "        HumanMessage(\n",
        "            content=document_content\n",
        "        )\n",
        "    ]\n",
        "\n",
        "    answer = chat.invoke(messages)\n",
        "    return answer.content\n",
        "\n",
        "json = convert_to_json(document_content)\n",
        "\n",
        "print(json)"
      ]
    },
    {
      "cell_type": "code",
      "execution_count": null,
      "metadata": {
        "id": "EXpjloaLplBe"
      },
      "outputs": [],
      "source": [
        "system_message = \"\"\"You analyze product descriptions to export them into a JSON format. I will present you with a product data sheet and describe the individual JSON objects and properties with <<<. You then create a JSON object from another product data sheet.\n",
        "\n",
        ">>> Example product:\n",
        "\n",
        "Product family benefits <<< benefits (string[])\n",
        "\n",
        "[..]\n",
        "\n",
        "-----\n",
        "\n",
        "Provide your JSON in the following schema:\n",
        "\n",
        "{\n",
        "  \"type\": \"object\",\n",
        "  \"properties\": {\n",
        "    \"name\": {\n",
        "      \"type\": \"string\"\n",
        "    },\n",
        "    \"description\": {\n",
        "      \"type\": \"string\"\n",
        "    },\n",
        "    \"applications\": {\n",
        "      \"type\": \"array\",\n",
        "      \"items\": {\n",
        "        \"type\": \"string\"\n",
        "      }\n",
        "    },\n",
        "    \"benefits\": {\n",
        "      \"type\": \"array\",\n",
        "      \"items\": {\n",
        "        \"type\": \"string\"\n",
        "      }\n",
        "    },\n",
        "    \"product_family\": {\n",
        "      \"type\": \"object\",\n",
        "      \"properties\": {\n",
        "        \"temperature\": {\n",
        "          \"type\": \"number\"\n",
        "        },\n",
        "        \"watts_min\": {\n",
        "          \"type\": \"number\"\n",
        "        },\n",
        "        \"watts_max\": {\n",
        "          \"type\": \"number\"\n",
        "        }\n",
        "      }\n",
        "    },\n",
        "    \"technical_data\": {\n",
        "      \"type\": \"object\",\n",
        "      \"properties\": {\n",
        "        \"nominal_current\": {\n",
        "          \"type\": \"number\"\n",
        "        },\n",
        "        \"control_range_min\": {\n",
        "          \"type\": \"number\"\n",
        "        },\n",
        "        \"control_range_max\": {\n",
        "          \"type\": \"number\"\n",
        "        },\n",
        "        \"nominal_wattage\": {\n",
        "          \"type\": \"number\"\n",
        "        },\n",
        "        \"nominal_voltage\": {\n",
        "          \"type\": \"number\"\n",
        "        }\n",
        "      }\n",
        "    },\n",
        "    \"dimensions\": {\n",
        "      \"type\": \"object\",\n",
        "      \"properties\": {\n",
        "        \"diameter\": {\n",
        "          \"type\": \"number\"\n",
        "        },\n",
        "        \"length\": {\n",
        "          \"type\": \"number\"\n",
        "        },\n",
        "        \"length_base\": {\n",
        "          \"type\": \"number\"\n",
        "        },\n",
        "        \"light_center_length\": {\n",
        "          \"type\": \"number\"\n",
        "        },\n",
        "        \"electrode_gap\": {\n",
        "          \"type\": \"number\"\n",
        "        },\n",
        "        \"weight\": {\n",
        "          \"type\": \"number\"\n",
        "        }\n",
        "      }\n",
        "    },\n",
        "    \"operating_conditions\": {\n",
        "      \"type\": \"object\",\n",
        "      \"properties\": {\n",
        "        \"max_temp\": {\n",
        "          \"type\": \"string\"\n",
        "        },\n",
        "        \"lifespan\": {\n",
        "          \"type\": \"number\"\n",
        "        },\n",
        "        \"service_lifetime\": {\n",
        "          \"type\": \"number\"\n",
        "        }\n",
        "      }\n",
        "    },\n",
        "    \"logistical_data\": {\n",
        "      \"type\": \"object\",\n",
        "      \"properties\": {\n",
        "        \"product_code\": {\n",
        "          \"type\": \"string\"\n",
        "        },\n",
        "        \"product_name\": {\n",
        "          \"type\": \"string\"\n",
        "        },\n",
        "        \"packaging_unit\": {\n",
        "          \"type\": \"object\",\n",
        "          \"properties\": {\n",
        "            \"product_code\": {\n",
        "              \"type\": \"string\"\n",
        "            },\n",
        "            \"product_name\": {\n",
        "              \"type\": \"string\"\n",
        "            },\n",
        "            \"length\": {\n",
        "              \"type\": \"number\"\n",
        "            },\n",
        "            \"width\": {\n",
        "              \"type\": \"number\"\n",
        "            },\n",
        "            \"height\": {\n",
        "              \"type\": \"number\"\n",
        "            },\n",
        "            \"volume\": {\n",
        "              \"type\": \"number\"\n",
        "            },\n",
        "            \"weight\": {\n",
        "              \"type\": \"number\"\n",
        "            }\n",
        "          }\n",
        "        }\n",
        "      }\n",
        "    }\n",
        "  }\n",
        "}\n",
        "\"\"\""
      ]
    },
    {
      "cell_type": "code",
      "execution_count": null,
      "metadata": {
        "colab": {
          "base_uri": "https://localhost:8080/"
        },
        "id": "vGTVe3DzqKf0",
        "outputId": "97efc835-0707-4f60-b68c-825971f6e2ec"
      },
      "outputs": [],
      "source": [
        "chat = ChatOpenAI(model_name='gpt-3.5-turbo-0125', temperature=0)\n",
        "\n",
        "def convert_to_json(document_content):\n",
        "    messages = [\n",
        "        SystemMessage(\n",
        "            content=system_message\n",
        "        ),\n",
        "        HumanMessage(\n",
        "            content=document_content\n",
        "        )\n",
        "    ]\n",
        "\n",
        "    answer = chat.invoke(messages)\n",
        "    return answer.content\n",
        "\n",
        "json = convert_to_json(document_content)\n",
        "\n",
        "print(json)"
      ]
    },
    {
      "cell_type": "code",
      "execution_count": null,
      "metadata": {
        "id": "cT9PbCGLqU80"
      },
      "outputs": [],
      "source": [
        "import os\n",
        "\n",
        "from langchain.chains.question_answering import load_qa_chain\n",
        "from langchain_openai import OpenAIEmbeddings\n",
        "from langchain.vectorstores import FAISS"
      ]
    },
    {
      "cell_type": "code",
      "execution_count": null,
      "metadata": {
        "id": "Xyh1K1jzqf4-"
      },
      "outputs": [],
      "source": [
        "pdf_files = [f for f in os.listdir('/home/sysadmin/llmops-course/AIE/Final-Project/datasets/pdf/source') if f.endswith('.pdf')]\n",
        "\n",
        "json_documents = []\n",
        "\n",
        "for pdf_file in pdf_files:\n",
        "    with open(f'/home/sysadmin/llmops-course/AIE/Final-Project/datasets/pdf/source/{pdf_file}', 'rb') as file:\n",
        "        pdf_reader = PdfReader(file)\n",
        "\n",
        "        page_contents = []\n",
        "\n",
        "        for page in pdf_reader.pages:\n",
        "            page.extract_text(visitor_text=visitor_body)\n",
        "\n",
        "        json = convert_to_json(\"\\n\".join(page_contents))\n",
        "\n",
        "        json_documents.append(json)"
      ]
    },
    {
      "cell_type": "code",
      "execution_count": null,
      "metadata": {
        "colab": {
          "base_uri": "https://localhost:8080/"
        },
        "id": "GpdJEBXIt9Qk",
        "outputId": "11e08490-e715-481f-e5bb-227471568822"
      },
      "outputs": [],
      "source": [
        "!pip install faiss-cpu\n",
        "!pip install faiss-gpu"
      ]
    },
    {
      "cell_type": "code",
      "execution_count": null,
      "metadata": {
        "colab": {
          "base_uri": "https://localhost:8080/",
          "height": 159
        },
        "id": "exsY1mR3qq3u",
        "outputId": "bbbb8c83-4527-420b-a57b-a2bd7d759e9e"
      },
      "outputs": [],
      "source": [
        "embeddings = OpenAIEmbeddings(model=\"text-embedding-3-large\")\n",
        "docsearch = FAISS.from_texts(json_documents, embeddings)"
      ]
    },
    {
      "cell_type": "code",
      "execution_count": null,
      "metadata": {
        "colab": {
          "base_uri": "https://localhost:8080/",
          "height": 1000
        },
        "id": "OxsXs5q4tYCr",
        "outputId": "d74b0952-b277-40af-bc76-50375a926f41"
      },
      "outputs": [],
      "source": [
        "chain = load_qa_chain(chat, chain_type=\"stuff\", verbose=True)\n",
        "\n",
        "query = \"Can I fit the XBO 1000 W/HS OFR into a box with 350mm length and 200mm width?\"\n",
        "\n",
        "docs = docsearch.similarity_search(query)\n",
        "chain.run(input_documents=docs, question=query)"
      ]
    },
    {
      "cell_type": "code",
      "execution_count": null,
      "metadata": {
        "id": "36XO-LnVujaX"
      },
      "outputs": [],
      "source": [
        "import json\n",
        "\n",
        "from typing import Any, List, Optional\n",
        "from dataclasses import dataclass, field"
      ]
    },
    {
      "cell_type": "code",
      "execution_count": null,
      "metadata": {
        "id": "MjJmaSbyur-u"
      },
      "outputs": [],
      "source": [
        "@dataclass\n",
        "class ProductFamily:\n",
        "    watts_min: int\n",
        "    watts_max: int\n",
        "    temperature: Optional[int] = field(default=0)\n",
        "\n",
        "    @staticmethod\n",
        "    def from_dict(obj: Any) -> 'ProductFamily':\n",
        "        _watts_min = int(obj.get(\"watts_min\"))\n",
        "        _watts_max = int(obj.get(\"watts_max\"))\n",
        "        _temperature = obj.get(\"temperature\")\n",
        "        return ProductFamily(_watts_min, _watts_max, _temperature)\n",
        "\n",
        "@dataclass\n",
        "class technical_data:\n",
        "    nominal_current: float\n",
        "    control_range_min: float\n",
        "    control_range_max: float\n",
        "    nominal_wattage: float\n",
        "    nominal_voltage: float\n",
        "\n",
        "    @staticmethod\n",
        "    def from_dict(obj: Any) -> 'technical_data':\n",
        "        _nominal_current = float(obj.get(\"nominal_current\"))\n",
        "        _control_range_min = float(obj.get(\"control_range_min\"))\n",
        "        _control_range_max = float(obj.get(\"control_range_max\"))\n",
        "        _nominal_wattage = float(obj.get(\"nominal_wattage\"))\n",
        "        _nominal_voltage = float(obj.get(\"nominal_voltage\"))\n",
        "        return technical_data(_nominal_current, _control_range_min, _control_range_max, _nominal_wattage, _nominal_voltage)\n",
        "    \n",
        "@dataclass\n",
        "class Dimensions:\n",
        "    diameter: float\n",
        "    length: float\n",
        "    length_base: float\n",
        "    light_center_length: float\n",
        "    electrode_gap: float\n",
        "    weight: float\n",
        "\n",
        "    @staticmethod\n",
        "    def from_dict(obj: Any) -> 'Dimensions':\n",
        "        _diameter = float(obj.get(\"diameter\"))\n",
        "        _length = float(obj.get(\"length\"))\n",
        "        _length_base = float(obj.get(\"length_base\"))\n",
        "        _light_center_length = float(obj.get(\"light_center_length\"))\n",
        "        _electrode_gap = float(obj.get(\"electrode_gap\"))\n",
        "        _weight = float(obj.get(\"weight\"))\n",
        "        return Dimensions(_diameter, _length, _length_base, _light_center_length, _electrode_gap, _weight)\n",
        "    \n",
        "@dataclass\n",
        "class opeating_conditions:\n",
        "    max_temp: str\n",
        "    lifespan: float\n",
        "    service_lifetime: float\n",
        "\n",
        "    @staticmethod\n",
        "    def from_dict(obj: Any) -> 'opeating_conditions':\n",
        "        _max_temp = str(obj.get(\"max_temp\"))\n",
        "        _lifespan = float(obj.get(\"lifespan\"))\n",
        "        _service_lifetime = float(obj.get(\"service_lifetime\"))\n",
        "        return opeating_conditions(_max_temp, _lifespan, _service_lifetime)\n",
        "\n",
        "@dataclass\n",
        "class PackagingUnit:\n",
        "    height: int\n",
        "    length: int\n",
        "    product_code: str\n",
        "    product_name: str\n",
        "    volume: float\n",
        "    weight: int\n",
        "    width: int\n",
        "\n",
        "    @staticmethod\n",
        "    def from_dict(obj: Any) -> 'PackagingUnit':\n",
        "        assert isinstance(obj, dict)\n",
        "        height = obj.get(\"height\")\n",
        "        length = obj.get(\"length\")\n",
        "        product_code = obj.get(\"product_code\")\n",
        "        product_name = obj.get(\"product_name\")\n",
        "        volume = obj.get(\"volume\")\n",
        "        weight = obj.get(\"weight\")\n",
        "        width = obj.get(\"width\")\n",
        "        return PackagingUnit(height, length, product_code, product_name, volume, weight, width)\n",
        "\n",
        "@dataclass\n",
        "class LogisticalData:\n",
        "    product_code: str\n",
        "    product_name: str\n",
        "    packaging_unit: PackagingUnit\n",
        "\n",
        "    @staticmethod\n",
        "    def from_dict(obj: Any) -> 'LogisticalData':\n",
        "        assert isinstance(obj, dict)\n",
        "        product_code = obj.get(\"product_code\")\n",
        "        product_name = obj.get(\"product_name\")\n",
        "        packaging_unit = PackagingUnit.from_dict(obj.get(\"packaging_unit\"))\n",
        "        return LogisticalData(product_code, product_name, packaging_unit)\n",
        "\n",
        "@dataclass\n",
        "class Product:\n",
        "    name: str\n",
        "    description: str\n",
        "    applications: List[str]\n",
        "    benefits: List[str]\n",
        "    product_family: ProductFamily\n",
        "    technical_data: technical_data\n",
        "    dimensions: Dimensions\n",
        "    operating_conditions: opeating_conditions\n",
        "    logistical_data: LogisticalData\n",
        "\n",
        "    @staticmethod\n",
        "    def from_dict(obj: Any) -> 'Product':\n",
        "        _name = str(obj.get(\"name\"))\n",
        "        _description = str(obj.get(\"description\"))\n",
        "        _applicaitons = obj.get(\"applications\")\n",
        "        _benefits = obj.get(\"benefits\")\n",
        "        _product_family = ProductFamily.from_dict(obj.get(\"product_family\"))\n",
        "        _technical_data = technical_data.from_dict(obj.get(\"technical_data\"))\n",
        "        _dimensions = Dimensions.from_dict(obj.get(\"dimensions\"))\n",
        "        _opeating_conditions = opeating_conditions.from_dict(obj.get(\"operating_conditions\"))\n",
        "        _logistical_data = LogisticalData.from_dict(obj.get(\"logistical_data\"))\n",
        "\n",
        "        return Product(_name, _description, _applicaitons, _benefits, _product_family, _technical_data, _dimensions, _opeating_conditions, _logistical_data)\n"
      ]
    },
    {
      "cell_type": "code",
      "execution_count": null,
      "metadata": {
        "id": "L39WJG7Vuto5"
      },
      "outputs": [],
      "source": [
        "import traceback\n",
        "\n",
        "pdf_files = [f for f in os.listdir('/home/sysadmin/llmops-course/AIE/Final-Project/datasets/pdf/source') if f.endswith('.pdf')]\n",
        "products = []\n",
        "\n",
        "for pdf_file in pdf_files:\n",
        "    json_content = None\n",
        "    try:\n",
        "        with open(f'/home/sysadmin/llmops-course/AIE/Final-Project/datasets/pdf/source/{pdf_file}', 'rb') as file:\n",
        "            pdf_reader = PdfReader(file)\n",
        "\n",
        "            page_contents = []\n",
        "\n",
        "            for page in pdf_reader.pages:\n",
        "                page.extract_text(visitor_text=visitor_body)\n",
        "\n",
        "            document_content = \"\\n\".join(page_contents)\n",
        "\n",
        "            json_content = convert_to_json(document_content)\n",
        "            json_data = json.loads(json_content)\n",
        "\n",
        "            product = Product.from_dict(json_data)\n",
        "            products.append(product)\n",
        "    except Exception as e:\n",
        "        print(\"{filename} has a problem: {e}\".format(filename=pdf_file, e=e))\n",
        "        print(traceback.format_exc())\n",
        "        print(json_content)\n",
        "    else:\n",
        "        os.rename(f'/home/sysadmin/llmops-course/AIE/Final-Project/datasets/pdf/source/{pdf_file}', f'/home/sysadmin/llmops-course/AIE/Final-Project/datasets/pdf/processed/{pdf_file}')"
      ]
    },
    {
      "cell_type": "code",
      "execution_count": null,
      "metadata": {
        "id": "Rj5Ortavv9ku"
      },
      "outputs": [],
      "source": [
        "import sqlite3"
      ]
    },
    {
      "cell_type": "code",
      "execution_count": null,
      "metadata": {
        "id": "OU5dVrjnv_eG"
      },
      "outputs": [],
      "source": [
        "if(os.path.exists('/home/sysadmin/llmops-course/AIE/Final-Project/datasets/db') == False):\n",
        "    os.makedirs('/home/sysadmin/llmops-course/AIE/Final-Project/datasets/db')\n",
        "\n",
        "db_file = '/home/sysadmin/llmops-course/AIE/Final-Project/datasets/db/products.db'\n",
        "\n",
        "db_connection = sqlite3.connect(db_file)\n",
        "db_cursor = db_connection.cursor()\n",
        "\n",
        "db_cursor.execute('''CREATE TABLE IF NOT EXISTS Product\n",
        "    (name TEXT PRIMARY KEY,\n",
        "    description TEXT,\n",
        "    temperature INTEGER,\n",
        "    watts_min INTEGER,\n",
        "    watts_max INTEGER,\n",
        "    dimension_diameter REAL,\n",
        "    dimension_length REAL,\n",
        "    dimension_weight REAL,\n",
        "    packaging_length INTEGER,\n",
        "    packaging_width INTEGER,\n",
        "    packaging_height INTEGER,\n",
        "    packaging_weight REAL) WITHOUT ROWID\n",
        "''')\n",
        "\n",
        "db_cursor.execute('''\n",
        "CREATE TABLE IF NOT EXISTS ProductApplication (\n",
        "    id INTEGER PRIMARY KEY AUTOINCREMENT,\n",
        "    product TEXT,\n",
        "    text TEXT NOT NULL,\n",
        "    FOREIGN KEY (product) REFERENCES Product(name)\n",
        ")\n",
        "''')\n",
        "\n",
        "db_cursor.execute('''\n",
        "CREATE TABLE IF NOT EXISTS ProductBenefit (\n",
        "    id INTEGER PRIMARY KEY AUTOINCREMENT,\n",
        "    product TEXT,\n",
        "    text TEXT NOT NULL,\n",
        "    FOREIGN KEY (product) REFERENCES Product(name)\n",
        ")\n",
        "''')\n",
        "\n",
        "db_connection.commit()"
      ]
    },
    {
      "cell_type": "code",
      "execution_count": null,
      "metadata": {
        "colab": {
          "base_uri": "https://localhost:8080/",
          "height": 332
        },
        "id": "h81NQ8anwGTv",
        "outputId": "cf4bd494-0dc9-4994-b9c4-81ae639481b7"
      },
      "outputs": [],
      "source": [
        "products_sql_tuples = [(\n",
        "    p.name,\n",
        "    p.description,\n",
        "    p.product_family.temperature,\n",
        "    p.product_family.watts_min,\n",
        "    p.product_family.watts_max,\n",
        "    p.dimensions.diameter,\n",
        "    p.dimensions.length,\n",
        "    p.dimensions.weight,\n",
        "    p.logistical_data.packaging_unit.length,\n",
        "    p.logistical_data.packaging_unit.width,\n",
        "    p.logistical_data.packaging_unit.height,\n",
        "    p.logistical_data.packaging_unit.weight,) for p in products]\n",
        "\n",
        "applications_sql_tuples = []\n",
        "for product in products:\n",
        "    applications_sql_tuples.extend([(product.name, application) for application in product.applications])\n",
        "\n",
        "benefits_sql_tuples = []\n",
        "for product in products:\n",
        "    benefits_sql_tuples.extend([(product.name, benefit) for benefit in product.benefits])"
      ]
    },
    {
      "cell_type": "code",
      "execution_count": null,
      "metadata": {},
      "outputs": [],
      "source": [
        "db_cursor.executemany('''\n",
        "    REPLACE INTO Product (name, description, temperature, watts_min, watts_max, dimension_diameter, dimension_length, dimension_weight, packaging_length, packaging_width, packaging_height, packaging_weight)\n",
        "    VALUES (?, ?, ?, ?, ?, ?, ?, ?, ?, ?, ?, ?)\n",
        "''', products_sql_tuples)\n",
        "\n",
        "db_cursor.executemany('''\n",
        "    REPLACE INTO ProductApplication (product, text)\n",
        "    VALUES (?, ?)\n",
        "''', applications_sql_tuples)\n",
        "\n",
        "db_cursor.executemany('''\n",
        "    REPLACE INTO ProductBenefit (product, text)\n",
        "    VALUES (?, ?)\n",
        "''', benefits_sql_tuples)\n",
        "\n",
        "db_connection.commit()"
      ]
    },
    {
      "cell_type": "code",
      "execution_count": null,
      "metadata": {},
      "outputs": [],
      "source": [
        "db_cursor.close()\n",
        "db_connection.close()"
      ]
    },
    {
      "cell_type": "code",
      "execution_count": null,
      "metadata": {},
      "outputs": [],
      "source": [
        "from langchain_community.utilities import SQLDatabase\n",
        "from langchain.chains import create_sql_query_chain\n",
        "from langchain_openai import ChatOpenAI"
      ]
    },
    {
      "cell_type": "code",
      "execution_count": null,
      "metadata": {},
      "outputs": [],
      "source": [
        "from langchain_community.agent_toolkits import create_sql_agent\n",
        "\n",
        "db = SQLDatabase.from_uri(\"sqlite:///datasets/db/products.db\")\n",
        "llm = ChatOpenAI(model=\"gpt-4-0125-preview\", temperature=0)\n",
        "\n",
        "agent_executor = create_sql_agent(llm, db=db, agent_type=\"openai-tools\", verbose=True)"
      ]
    },
    {
      "cell_type": "code",
      "execution_count": null,
      "metadata": {},
      "outputs": [],
      "source": [
        "prompt = \"How many products do you have?\"\n",
        "\n",
        "result = agent_executor.invoke({\"input\": prompt})"
      ]
    },
    {
      "cell_type": "code",
      "execution_count": null,
      "metadata": {},
      "outputs": [],
      "source": [
        "prompt = \"I need to find a packaging size that works for all products. What size would that package have?\"\n",
        "\n",
        "result = agent_executor.invoke({\"input\": prompt})"
      ]
    },
    {
      "cell_type": "code",
      "execution_count": null,
      "metadata": {},
      "outputs": [],
      "source": [
        "prompt = \"Show me the products for brighter screen illumination\"\n",
        "\n",
        "result = agent_executor.invoke({\"input\": prompt})"
      ]
    }
  ],
  "metadata": {
    "colab": {
      "provenance": []
    },
    "kernelspec": {
      "display_name": "Python 3",
      "name": "python3"
    },
    "language_info": {
      "codemirror_mode": {
        "name": "ipython",
        "version": 3
      },
      "file_extension": ".py",
      "mimetype": "text/x-python",
      "name": "python",
      "nbconvert_exporter": "python",
      "pygments_lexer": "ipython3",
      "version": "3.11.7"
    }
  },
  "nbformat": 4,
  "nbformat_minor": 0
}
