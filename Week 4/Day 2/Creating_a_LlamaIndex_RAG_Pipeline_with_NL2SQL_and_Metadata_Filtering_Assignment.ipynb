{
  "cells": [
    {
      "cell_type": "markdown",
      "source": [
        "# Creating a LlamaIndex RAG Pipeline with NL2SQL and Metadata Filtering!\n",
        "\n",
        "We'll be putting together a system for querying both qualitative and quantitative data using LlamaIndex.\n",
        "\n",
        "The acitvities will be broken down as follows:\n",
        "\n",
        "- 🤝 Breakout Room #1\n",
        "  - Task 1: Load Dependencies\n",
        "  - Task 2: Set Env Variables and Set Up WandB Callback\n",
        "  - Task 3: Initialize Settings\n",
        "  - Task 4: Semantic RAG Pipeline with Metadata Filtering\n",
        "- 🤝 Breakout Room #2\n",
        "  - Task 1: Quantitative RAG Pipeline with NL2SQL Tooling\n",
        "  - Task 2: Combined RAG Pipeline\n",
        "\n",
        "Before we get started, however, a quick note on terminology.\n"
      ],
      "metadata": {
        "id": "x5TTdyIoo3i7"
      }
    },
    {
      "cell_type": "markdown",
      "metadata": {
        "id": "vcvGuykZSV_8"
      },
      "source": [
        "### A note on terminology:\n",
        "\n",
        "You'll notice that there are quite a few similarities between LangChain and LlamaIndex. LlamaIndex can largely be thought of as an extension to LangChain, in some ways - but they moved some of the language around. Let's spend a few moments disambiguating the language.\n",
        "\n",
        "- `QueryEngine` -> `LCEL Chain`:\n",
        "  -  `QueryEngine` is just LlamaIndex's way of indicating something is an LLM \"chain\" on top of a retrieval system\n",
        "- `OpenAIAgent` vs. `Agent`:\n",
        "  - The two agents have the same fundamental pattern: Decide which of a list of tools to use to answer a user's query.\n",
        "  - `OpenAIAgent` (LlamaIndex's primary agent) does not need to rely on an agent excecutor due to the fact that it is leveraging OpenAI's [functional api](https://openai.com/blog/function-calling-and-other-api-updates) which allows the agent to interface \"directly\" with the tools instead of operating through an intermediary application process.\n",
        "\n",
        "There is, however, a much large terminological difference when it comes to discussing data.\n",
        "\n",
        "##### Nodes vs. Documents\n",
        "\n",
        "As you're aware of from the previous weeks assignments, there's an idea of `documents` in NLP which refers to text objects that exist within a corpus of documents.\n",
        "\n",
        "LlamaIndex takes this a step further and reclassifies `documents` as `nodes`. Confusingly, it refers to the `Source Document` as simply `Documents`.\n",
        "\n",
        "The `Document` -> `node` structure is, almost exactly, equivalent to the `Source Document` -> `Document` structure found in LangChain - but the new terminology comes with some clarity about different structure-indices.\n",
        "\n",
        "We won't be leveraging those structured indicies today, but we will be leveraging a \"benefit\" of the `node` structure that exists as a default in LlamaIndex, which is the ability to quickly filter nodes based on their metadata.\n",
        "\n",
        "![image](https://i.imgur.com/B1QDjs5.png)"
      ]
    },
    {
      "cell_type": "markdown",
      "source": [
        "# 🤝 Breakout Room #1"
      ],
      "metadata": {
        "id": "dkLLmDFnOfOs"
      }
    },
    {
      "cell_type": "markdown",
      "metadata": {
        "id": "Msvju70DSV_8"
      },
      "source": [
        "## BOILERPLATE\n",
        "\n",
        "This is only relevant when running the code in a Jupyter Notebook."
      ]
    },
    {
      "cell_type": "code",
      "execution_count": 1,
      "metadata": {
        "id": "7VF57GcmSV_9"
      },
      "outputs": [],
      "source": [
        "import nest_asyncio\n",
        "\n",
        "nest_asyncio.apply()\n",
        "\n",
        "import logging\n",
        "import sys\n",
        "\n",
        "logging.basicConfig(stream=sys.stdout, level=logging.INFO)\n",
        "logging.getLogger().addHandler(logging.StreamHandler(stream=sys.stdout))"
      ]
    },
    {
      "cell_type": "markdown",
      "metadata": {
        "id": "6zQBPs6zSV_9"
      },
      "source": [
        "## Task 1: Load Dependencies"
      ]
    },
    {
      "cell_type": "markdown",
      "metadata": {
        "id": "WhEbxl3nSV_9"
      },
      "source": [
        "Let's grab our core `llama-index` library, as well as OpenAI's Python SDK.\n",
        "\n",
        "We'll be leveraging OpenAI's suite of APIs to power our RAG pipelines today.\n",
        "\n",
        "> NOTE: You can safely ignore any pip errors that occur during the running of these cells."
      ]
    },
    {
      "cell_type": "code",
      "execution_count": 2,
      "metadata": {
        "id": "b3oyvtl2SV_9",
        "colab": {
          "base_uri": "https://localhost:8080/"
        },
        "outputId": "6247e202-eb8f-45b7-9139-a06e7eb6b28b"
      },
      "outputs": [
        {
          "output_type": "stream",
          "name": "stdout",
          "text": [
            "\u001b[2K     \u001b[90m━━━━━━━━━━━━━━━━━━━━━━━━━━━━━━━━━━━━━━━━\u001b[0m \u001b[32m227.4/227.4 kB\u001b[0m \u001b[31m2.6 MB/s\u001b[0m eta \u001b[36m0:00:00\u001b[0m\n",
            "\u001b[2K     \u001b[90m━━━━━━━━━━━━━━━━━━━━━━━━━━━━━━━━━━━━━━━━\u001b[0m \u001b[32m15.3/15.3 MB\u001b[0m \u001b[31m25.1 MB/s\u001b[0m eta \u001b[36m0:00:00\u001b[0m\n",
            "\u001b[2K     \u001b[90m━━━━━━━━━━━━━━━━━━━━━━━━━━━━━━━━━━━━━━━━\u001b[0m \u001b[32m2.0/2.0 MB\u001b[0m \u001b[31m50.4 MB/s\u001b[0m eta \u001b[36m0:00:00\u001b[0m\n",
            "\u001b[2K     \u001b[90m━━━━━━━━━━━━━━━━━━━━━━━━━━━━━━━━━━━━━━━━\u001b[0m \u001b[32m75.6/75.6 kB\u001b[0m \u001b[31m7.4 MB/s\u001b[0m eta \u001b[36m0:00:00\u001b[0m\n",
            "\u001b[2K     \u001b[90m━━━━━━━━━━━━━━━━━━━━━━━━━━━━━━━━━━━━━━━━\u001b[0m \u001b[32m77.8/77.8 kB\u001b[0m \u001b[31m4.8 MB/s\u001b[0m eta \u001b[36m0:00:00\u001b[0m\n",
            "\u001b[2K     \u001b[90m━━━━━━━━━━━━━━━━━━━━━━━━━━━━━━━━━━━━━━━━\u001b[0m \u001b[32m58.3/58.3 kB\u001b[0m \u001b[31m6.6 MB/s\u001b[0m eta \u001b[36m0:00:00\u001b[0m\n",
            "\u001b[2K     \u001b[90m━━━━━━━━━━━━━━━━━━━━━━━━━━━━━━━━━━━━━━━━\u001b[0m \u001b[32m108.0/108.0 kB\u001b[0m \u001b[31m9.5 MB/s\u001b[0m eta \u001b[36m0:00:00\u001b[0m\n",
            "\u001b[2K     \u001b[90m━━━━━━━━━━━━━━━━━━━━━━━━━━━━━━━━━━━━━━━━\u001b[0m \u001b[32m1.8/1.8 MB\u001b[0m \u001b[31m35.0 MB/s\u001b[0m eta \u001b[36m0:00:00\u001b[0m\n",
            "\u001b[2K     \u001b[90m━━━━━━━━━━━━━━━━━━━━━━━━━━━━━━━━━━━━━━━━\u001b[0m \u001b[32m4.4/4.4 MB\u001b[0m \u001b[31m86.3 MB/s\u001b[0m eta \u001b[36m0:00:00\u001b[0m\n",
            "\u001b[2K     \u001b[90m━━━━━━━━━━━━━━━━━━━━━━━━━━━━━━━━━━━━━━━━\u001b[0m \u001b[32m286.1/286.1 kB\u001b[0m \u001b[31m30.3 MB/s\u001b[0m eta \u001b[36m0:00:00\u001b[0m\n",
            "\u001b[2K     \u001b[90m━━━━━━━━━━━━━━━━━━━━━━━━━━━━━━━━━━━━━━━━\u001b[0m \u001b[32m525.5/525.5 kB\u001b[0m \u001b[31m38.1 MB/s\u001b[0m eta \u001b[36m0:00:00\u001b[0m\n",
            "\u001b[2K     \u001b[90m━━━━━━━━━━━━━━━━━━━━━━━━━━━━━━━━━━━━━━━━\u001b[0m \u001b[32m30.6/30.6 MB\u001b[0m \u001b[31m44.6 MB/s\u001b[0m eta \u001b[36m0:00:00\u001b[0m\n",
            "\u001b[2K     \u001b[90m━━━━━━━━━━━━━━━━━━━━━━━━━━━━━━━━━━━━━━━━\u001b[0m \u001b[32m49.4/49.4 kB\u001b[0m \u001b[31m6.1 MB/s\u001b[0m eta \u001b[36m0:00:00\u001b[0m\n",
            "\u001b[2K     \u001b[90m━━━━━━━━━━━━━━━━━━━━━━━━━━━━━━━━━━━━━━━━\u001b[0m \u001b[32m2.4/2.4 MB\u001b[0m \u001b[31m82.6 MB/s\u001b[0m eta \u001b[36m0:00:00\u001b[0m\n",
            "\u001b[2K     \u001b[90m━━━━━━━━━━━━━━━━━━━━━━━━━━━━━━━━━━━━━━━━\u001b[0m \u001b[32m92.1/92.1 kB\u001b[0m \u001b[31m12.3 MB/s\u001b[0m eta \u001b[36m0:00:00\u001b[0m\n",
            "\u001b[2K     \u001b[90m━━━━━━━━━━━━━━━━━━━━━━━━━━━━━━━━━━━━━━━━\u001b[0m \u001b[32m60.6/60.6 kB\u001b[0m \u001b[31m8.4 MB/s\u001b[0m eta \u001b[36m0:00:00\u001b[0m\n",
            "\u001b[2K     \u001b[90m━━━━━━━━━━━━━━━━━━━━━━━━━━━━━━━━━━━━━━━━\u001b[0m \u001b[32m41.3/41.3 kB\u001b[0m \u001b[31m5.7 MB/s\u001b[0m eta \u001b[36m0:00:00\u001b[0m\n",
            "\u001b[2K     \u001b[90m━━━━━━━━━━━━━━━━━━━━━━━━━━━━━━━━━━━━━━━━\u001b[0m \u001b[32m5.4/5.4 MB\u001b[0m \u001b[31m85.0 MB/s\u001b[0m eta \u001b[36m0:00:00\u001b[0m\n",
            "\u001b[2K     \u001b[90m━━━━━━━━━━━━━━━━━━━━━━━━━━━━━━━━━━━━━━━━\u001b[0m \u001b[32m6.8/6.8 MB\u001b[0m \u001b[31m101.7 MB/s\u001b[0m eta \u001b[36m0:00:00\u001b[0m\n",
            "\u001b[2K     \u001b[90m━━━━━━━━━━━━━━━━━━━━━━━━━━━━━━━━━━━━━━━━\u001b[0m \u001b[32m58.4/58.4 kB\u001b[0m \u001b[31m8.8 MB/s\u001b[0m eta \u001b[36m0:00:00\u001b[0m\n",
            "\u001b[2K     \u001b[90m━━━━━━━━━━━━━━━━━━━━━━━━━━━━━━━━━━━━━━━━\u001b[0m \u001b[32m105.7/105.7 kB\u001b[0m \u001b[31m13.5 MB/s\u001b[0m eta \u001b[36m0:00:00\u001b[0m\n",
            "\u001b[2K     \u001b[90m━━━━━━━━━━━━━━━━━━━━━━━━━━━━━━━━━━━━━━━━\u001b[0m \u001b[32m67.3/67.3 kB\u001b[0m \u001b[31m8.8 MB/s\u001b[0m eta \u001b[36m0:00:00\u001b[0m\n",
            "\u001b[?25h  Installing build dependencies ... \u001b[?25l\u001b[?25hdone\n",
            "  Getting requirements to build wheel ... \u001b[?25l\u001b[?25hdone\n",
            "  Preparing metadata (pyproject.toml) ... \u001b[?25l\u001b[?25hdone\n",
            "\u001b[2K     \u001b[90m━━━━━━━━━━━━━━━━━━━━━━━━━━━━━━━━━━━━━━━━\u001b[0m \u001b[32m698.9/698.9 kB\u001b[0m \u001b[31m43.9 MB/s\u001b[0m eta \u001b[36m0:00:00\u001b[0m\n",
            "\u001b[2K     \u001b[90m━━━━━━━━━━━━━━━━━━━━━━━━━━━━━━━━━━━━━━━━\u001b[0m \u001b[32m1.6/1.6 MB\u001b[0m \u001b[31m65.1 MB/s\u001b[0m eta \u001b[36m0:00:00\u001b[0m\n",
            "\u001b[2K     \u001b[90m━━━━━━━━━━━━━━━━━━━━━━━━━━━━━━━━━━━━━━━━\u001b[0m \u001b[32m67.6/67.6 kB\u001b[0m \u001b[31m7.6 MB/s\u001b[0m eta \u001b[36m0:00:00\u001b[0m\n",
            "\u001b[2K     \u001b[90m━━━━━━━━━━━━━━━━━━━━━━━━━━━━━━━━━━━━━━━━\u001b[0m \u001b[32m138.5/138.5 kB\u001b[0m \u001b[31m17.0 MB/s\u001b[0m eta \u001b[36m0:00:00\u001b[0m\n",
            "\u001b[2K     \u001b[90m━━━━━━━━━━━━━━━━━━━━━━━━━━━━━━━━━━━━━━━━\u001b[0m \u001b[32m71.5/71.5 kB\u001b[0m \u001b[31m9.1 MB/s\u001b[0m eta \u001b[36m0:00:00\u001b[0m\n",
            "\u001b[2K     \u001b[90m━━━━━━━━━━━━━━━━━━━━━━━━━━━━━━━━━━━━━━━━\u001b[0m \u001b[32m46.0/46.0 kB\u001b[0m \u001b[31m6.1 MB/s\u001b[0m eta \u001b[36m0:00:00\u001b[0m\n",
            "\u001b[2K     \u001b[90m━━━━━━━━━━━━━━━━━━━━━━━━━━━━━━━━━━━━━━━━\u001b[0m \u001b[32m50.8/50.8 kB\u001b[0m \u001b[31m6.7 MB/s\u001b[0m eta \u001b[36m0:00:00\u001b[0m\n",
            "\u001b[2K     \u001b[90m━━━━━━━━━━━━━━━━━━━━━━━━━━━━━━━━━━━━━━━━\u001b[0m \u001b[32m341.4/341.4 kB\u001b[0m \u001b[31m36.9 MB/s\u001b[0m eta \u001b[36m0:00:00\u001b[0m\n",
            "\u001b[2K     \u001b[90m━━━━━━━━━━━━━━━━━━━━━━━━━━━━━━━━━━━━━━━━\u001b[0m \u001b[32m3.4/3.4 MB\u001b[0m \u001b[31m64.2 MB/s\u001b[0m eta \u001b[36m0:00:00\u001b[0m\n",
            "\u001b[2K     \u001b[90m━━━━━━━━━━━━━━━━━━━━━━━━━━━━━━━━━━━━━━━━\u001b[0m \u001b[32m1.3/1.3 MB\u001b[0m \u001b[31m56.3 MB/s\u001b[0m eta \u001b[36m0:00:00\u001b[0m\n",
            "\u001b[2K     \u001b[90m━━━━━━━━━━━━━━━━━━━━━━━━━━━━━━━━━━━━━━━━\u001b[0m \u001b[32m130.2/130.2 kB\u001b[0m \u001b[31m14.9 MB/s\u001b[0m eta \u001b[36m0:00:00\u001b[0m\n",
            "\u001b[2K     \u001b[90m━━━━━━━━━━━━━━━━━━━━━━━━━━━━━━━━━━━━━━━━\u001b[0m \u001b[32m86.8/86.8 kB\u001b[0m \u001b[31m9.7 MB/s\u001b[0m eta \u001b[36m0:00:00\u001b[0m\n",
            "\u001b[?25h  Building wheel for pypika (pyproject.toml) ... \u001b[?25l\u001b[?25hdone\n"
          ]
        }
      ],
      "source": [
        "!pip install -qU llama-index openai"
      ]
    },
    {
      "cell_type": "markdown",
      "source": [
        "We'll be using [Weights and Biases](https://docs.wandb.ai/guides/prompts) (WandB) again for today's notebook!"
      ],
      "metadata": {
        "id": "6Jifl-qHO8MU"
      }
    },
    {
      "cell_type": "code",
      "source": [
        "!pip install -qU wandb llama-index-callbacks-wandb"
      ],
      "metadata": {
        "id": "9UcQpjG9Ovlk",
        "colab": {
          "base_uri": "https://localhost:8080/"
        },
        "outputId": "8735da04-22a8-456a-d1d5-ab942d6901c0"
      },
      "execution_count": 3,
      "outputs": [
        {
          "output_type": "stream",
          "name": "stdout",
          "text": [
            "\u001b[2K     \u001b[90m━━━━━━━━━━━━━━━━━━━━━━━━━━━━━━━━━━━━━━━━\u001b[0m \u001b[32m2.2/2.2 MB\u001b[0m \u001b[31m9.1 MB/s\u001b[0m eta \u001b[36m0:00:00\u001b[0m\n",
            "\u001b[2K     \u001b[90m━━━━━━━━━━━━━━━━━━━━━━━━━━━━━━━━━━━━━━━━\u001b[0m \u001b[32m195.4/195.4 kB\u001b[0m \u001b[31m12.7 MB/s\u001b[0m eta \u001b[36m0:00:00\u001b[0m\n",
            "\u001b[2K     \u001b[90m━━━━━━━━━━━━━━━━━━━━━━━━━━━━━━━━━━━━━━━━\u001b[0m \u001b[32m258.8/258.8 kB\u001b[0m \u001b[31m14.3 MB/s\u001b[0m eta \u001b[36m0:00:00\u001b[0m\n",
            "\u001b[2K     \u001b[90m━━━━━━━━━━━━━━━━━━━━━━━━━━━━━━━━━━━━━━━━\u001b[0m \u001b[32m62.7/62.7 kB\u001b[0m \u001b[31m7.0 MB/s\u001b[0m eta \u001b[36m0:00:00\u001b[0m\n",
            "\u001b[?25h"
          ]
        }
      ]
    },
    {
      "cell_type": "markdown",
      "source": [
        "We'll be collecting our semantic data from Wikipedia - and so will need the [Wikipedia Reader](https://github.com/run-llama/llama_index/tree/main/llama-index-integrations/readers/llama-index-readers-wikipedia)!"
      ],
      "metadata": {
        "id": "uqTXRTrLPatl"
      }
    },
    {
      "cell_type": "code",
      "execution_count": 4,
      "metadata": {
        "id": "f9kXf7pPSV_-",
        "colab": {
          "base_uri": "https://localhost:8080/"
        },
        "outputId": "2804e410-f3ff-41c8-9189-e7dbc9531edd"
      },
      "outputs": [
        {
          "output_type": "stream",
          "name": "stdout",
          "text": [
            "  Preparing metadata (setup.py) ... \u001b[?25l\u001b[?25hdone\n",
            "  Building wheel for wikipedia (setup.py) ... \u001b[?25l\u001b[?25hdone\n"
          ]
        }
      ],
      "source": [
        "!pip install -qU wikipedia llama-index-readers-wikipedia"
      ]
    },
    {
      "cell_type": "markdown",
      "source": [
        "Our vector database today will be powered by [ChromaDB](https://github.com/chroma-core/chroma) and so we'll need that package as well!"
      ],
      "metadata": {
        "id": "Qq_rWHZEPrCO"
      }
    },
    {
      "cell_type": "code",
      "source": [
        "!pip install -qU chromadb llama-index-vector-stores-chroma"
      ],
      "metadata": {
        "id": "iMCA8HFGEPF_"
      },
      "execution_count": 5,
      "outputs": []
    },
    {
      "cell_type": "markdown",
      "source": [
        "Finally, we'll need to grab a few dependencies related to our quantitative data!"
      ],
      "metadata": {
        "id": "wNHDqna1P1NQ"
      }
    },
    {
      "cell_type": "code",
      "execution_count": 6,
      "metadata": {
        "id": "BrT8a3c0SV__",
        "colab": {
          "base_uri": "https://localhost:8080/"
        },
        "outputId": "58af4f0f-b1b8-4491-e010-e9324b3b8278"
      },
      "outputs": [
        {
          "output_type": "stream",
          "name": "stdout",
          "text": [
            "\u001b[2K     \u001b[90m━━━━━━━━━━━━━━━━━━━━━━━━━━━━━━━━━━━━━━━━\u001b[0m \u001b[32m13.0/13.0 MB\u001b[0m \u001b[31m35.9 MB/s\u001b[0m eta \u001b[36m0:00:00\u001b[0m\n",
            "\u001b[2K     \u001b[90m━━━━━━━━━━━━━━━━━━━━━━━━━━━━━━━━━━━━━━━━\u001b[0m \u001b[32m345.4/345.4 kB\u001b[0m \u001b[31m30.3 MB/s\u001b[0m eta \u001b[36m0:00:00\u001b[0m\n",
            "\u001b[?25h\u001b[31mERROR: pip's dependency resolver does not currently take into account all the packages that are installed. This behaviour is the source of the following dependency conflicts.\n",
            "bigframes 0.22.0 requires pandas<2.1.4,>=1.5.0, but you have pandas 2.2.1 which is incompatible.\n",
            "google-colab 1.0.0 requires pandas==1.5.3, but you have pandas 2.2.1 which is incompatible.\u001b[0m\u001b[31m\n",
            "\u001b[0m"
          ]
        }
      ],
      "source": [
        "!pip install -q -U sqlalchemy pandas"
      ]
    },
    {
      "cell_type": "markdown",
      "source": [
        "We'll grab some additional miscellaneous dependencies here."
      ],
      "metadata": {
        "id": "WuZM6UjePVBk"
      }
    },
    {
      "cell_type": "code",
      "execution_count": 7,
      "metadata": {
        "id": "vqPJv3jUSV_-",
        "colab": {
          "base_uri": "https://localhost:8080/"
        },
        "outputId": "6a68020f-1525-45aa-f91c-12a21b7c7ff0"
      },
      "outputs": [
        {
          "output_type": "stream",
          "name": "stdout",
          "text": [
            "\u001b[2K     \u001b[90m━━━━━━━━━━━━━━━━━━━━━━━━━━━━━━━━━━━━━━━━\u001b[0m \u001b[32m1.7/1.7 MB\u001b[0m \u001b[31m8.1 MB/s\u001b[0m eta \u001b[36m0:00:00\u001b[0m\n",
            "\u001b[2K     \u001b[90m━━━━━━━━━━━━━━━━━━━━━━━━━━━━━━━━━━━━━━━━\u001b[0m \u001b[32m86.0/86.0 kB\u001b[0m \u001b[31m8.9 MB/s\u001b[0m eta \u001b[36m0:00:00\u001b[0m\n",
            "\u001b[?25h  Preparing metadata (setup.py) ... \u001b[?25l\u001b[?25hdone\n",
            "\u001b[2K     \u001b[90m━━━━━━━━━━━━━━━━━━━━━━━━━━━━━━━━━━━━━━━━\u001b[0m \u001b[32m3.1/3.1 MB\u001b[0m \u001b[31m19.7 MB/s\u001b[0m eta \u001b[36m0:00:00\u001b[0m\n",
            "\u001b[?25h  Building wheel for sentence-transformers (setup.py) ... \u001b[?25l\u001b[?25hdone\n"
          ]
        }
      ],
      "source": [
        "!pip install -U -q tiktoken==0.4.0 sentence-transformers==2.2.2 pydantic==1.10.11"
      ]
    },
    {
      "cell_type": "markdown",
      "source": [
        "## Task 2: Set Env Variables and Set Up WandB Callback\n",
        "\n",
        "Let's set our API keys for both OpenAI and WandB!"
      ],
      "metadata": {
        "id": "ibtguieHP6n1"
      }
    },
    {
      "cell_type": "code",
      "execution_count": 8,
      "metadata": {
        "id": "7IBgMTPTSV_9",
        "colab": {
          "base_uri": "https://localhost:8080/"
        },
        "outputId": "e4a59d8e-9ec1-4f11-f619-435b7b59d11c"
      },
      "outputs": [
        {
          "name": "stdout",
          "output_type": "stream",
          "text": [
            "OpenAI API Key: ··········\n"
          ]
        }
      ],
      "source": [
        "import os\n",
        "import getpass\n",
        "\n",
        "os.environ[\"OPENAI_API_KEY\"] = getpass.getpass(\"OpenAI API Key: \")"
      ]
    },
    {
      "cell_type": "code",
      "execution_count": 9,
      "metadata": {
        "id": "4OHSwkDySV_-",
        "colab": {
          "base_uri": "https://localhost:8080/"
        },
        "outputId": "e1608771-e870-4129-9291-eb0c0a0c776a"
      },
      "outputs": [
        {
          "name": "stdout",
          "output_type": "stream",
          "text": [
            "WandB API Key: ··········\n"
          ]
        }
      ],
      "source": [
        "os.environ[\"WANDB_API_KEY\"] = getpass.getpass(\"WandB API Key: \")"
      ]
    },
    {
      "cell_type": "markdown",
      "source": [
        "We'll also need to set a callback handler for WandB to ensure smooth operation of our traces!"
      ],
      "metadata": {
        "id": "Ut8E447rQBjY"
      }
    },
    {
      "cell_type": "code",
      "execution_count": 10,
      "metadata": {
        "id": "MoV2JINuSV_-",
        "colab": {
          "base_uri": "https://localhost:8080/",
          "height": 69
        },
        "outputId": "a055c2e3-9861-474e-e421-50a9b59eed06"
      },
      "outputs": [
        {
          "output_type": "stream",
          "name": "stderr",
          "text": [
            "\u001b[34m\u001b[1mwandb\u001b[0m: Streaming LlamaIndex events to W&B at https://wandb.ai/waqasjavedkhan/aie1-llama-index-demo/runs/yhrwjqdr\n",
            "\u001b[34m\u001b[1mwandb\u001b[0m: `WandbCallbackHandler` is currently in beta.\n",
            "\u001b[34m\u001b[1mwandb\u001b[0m: Please report any issues to https://github.com/wandb/wandb/issues with the tag `llamaindex`.\n"
          ]
        }
      ],
      "source": [
        "import llama_index\n",
        "from llama_index.core import set_global_handler\n",
        "\n",
        "set_global_handler(\"wandb\", run_args={\"project\": \"aie1-llama-index-demo\"})\n",
        "wandb_callback = llama_index.core.global_handler"
      ]
    },
    {
      "cell_type": "markdown",
      "metadata": {
        "id": "UQwigweOSV_-"
      },
      "source": [
        "### Task 3: Settings\n",
        "\n",
        "LlamaIndex lets us set global settings which we can use to influence the default behaviour of our components.\n",
        "\n",
        "Let's set our LLM and our Embedding Model!"
      ]
    },
    {
      "cell_type": "code",
      "execution_count": 11,
      "metadata": {
        "id": "6KOy21KPSV_-"
      },
      "outputs": [],
      "source": [
        "from llama_index.llms.openai import OpenAI\n",
        "from llama_index.embeddings.openai import OpenAIEmbedding\n",
        "from llama_index.core import Settings\n",
        "\n",
        "Settings.llm = OpenAI(model=\"gpt-3.5-turbo\")\n",
        "Settings.embed_model = OpenAIEmbedding(model=\"text-embedding-3-small\")"
      ]
    },
    {
      "cell_type": "markdown",
      "metadata": {
        "id": "eiOdw7EQSV_-"
      },
      "source": [
        "## Task 4: Semantic RAG Pipeline with Metadata Filtering\n",
        "\n",
        "Now we can get to work creating our semantic `QueryEngine`!\n",
        "\n",
        "We'll start, as we normally do, by grabbing some data.\n",
        "\n",
        "> NOTE: Remember that a query engine is just a different word for a chain!"
      ]
    },
    {
      "cell_type": "markdown",
      "metadata": {
        "id": "iDEtQQWnSV_-"
      },
      "source": [
        "### Data Collection\n",
        "\n",
        "We're just going to be pulling information straight from Wikipedia using the built in `WikipediaReader`.\n",
        "\n",
        "> NOTE: Setting `auto_suggest=False` ensures we run into fewer auto-correct based errors."
      ]
    },
    {
      "cell_type": "code",
      "execution_count": 12,
      "metadata": {
        "id": "OrzzrnYMSV_-"
      },
      "outputs": [],
      "source": [
        "from llama_index.readers.wikipedia import WikipediaReader\n",
        "\n",
        "movie_list = [\"Dune (2021 film)\", \"Dune: Part Two\"]\n",
        "\n",
        "wiki_docs = WikipediaReader().load_data(pages=movie_list, auto_suggest=False)"
      ]
    },
    {
      "cell_type": "markdown",
      "metadata": {
        "id": "-6FRQ4hfSV_-"
      },
      "source": [
        "### Initializing our VectorStoreIndex with ChromaDB\n",
        "\n",
        "ChromaDB is a locally hostable and open-source vector database solution.\n",
        "\n",
        "It offers powerful features like metadata filtering out of the box, and will suit our needs well today!\n",
        "\n",
        "We'll start by creating our local `EphemeralClient()` (in-memory and not meant for production use-cases) and our collection.\n",
        "\n",
        "Then we'll create our `VectorStore` and `StorageContext` which will allow us to create an empty `VectorStoreIndex` which we will be able to add nodes to later!"
      ]
    },
    {
      "cell_type": "code",
      "source": [
        "from llama_index.vector_stores.chroma import ChromaVectorStore\n",
        "import chromadb\n",
        "\n",
        "chroma_client = chromadb.EphemeralClient()\n",
        "chroma_collection = chroma_client.create_collection(\"dune-v0\")"
      ],
      "metadata": {
        "id": "b1ut96aSEVwY"
      },
      "execution_count": 13,
      "outputs": []
    },
    {
      "cell_type": "code",
      "execution_count": 14,
      "metadata": {
        "id": "lZ5xilm1SV_-",
        "outputId": "f16fa16d-35dc-4723-f6bd-575cd954c304",
        "colab": {
          "base_uri": "https://localhost:8080/"
        }
      },
      "outputs": [
        {
          "output_type": "stream",
          "name": "stderr",
          "text": [
            "\u001b[34m\u001b[1mwandb\u001b[0m: Logged trace tree to W&B.\n"
          ]
        }
      ],
      "source": [
        "from llama_index.core import VectorStoreIndex\n",
        "from llama_index.core import StorageContext\n",
        "\n",
        "vector_store = ChromaVectorStore(chroma_collection=chroma_collection)\n",
        "storage_context = StorageContext.from_defaults(vector_store=vector_store)\n",
        "index = VectorStoreIndex.from_documents([], storage_context=storage_context)"
      ]
    },
    {
      "cell_type": "markdown",
      "metadata": {
        "id": "6qtzVDelSV_-"
      },
      "source": [
        "### Node Construction\n",
        "\n",
        "Now we will loop through our documents and metadata and construct nodes.\n",
        "\n",
        "We'll make sure to explicitly associate our nodes with their respective movie so we can filter by the movie title in the upcoming cells.\n",
        "\n",
        "> NOTE: You can safely ignore any WARNINGs in the following cell."
      ]
    },
    {
      "cell_type": "code",
      "execution_count": 15,
      "metadata": {
        "id": "LP4INgSGSV_-",
        "colab": {
          "base_uri": "https://localhost:8080/"
        },
        "outputId": "97a5230e-519d-4733-ab63-32a38c5b7c06"
      },
      "outputs": [
        {
          "output_type": "stream",
          "name": "stderr",
          "text": [
            "WARNING:chromadb.segment.impl.vector.local_hnsw:Add of existing embedding ID: 629df6ea-6b38-4e78-b83f-84f933519185\n"
          ]
        },
        {
          "output_type": "stream",
          "name": "stdout",
          "text": [
            "Add of existing embedding ID: 629df6ea-6b38-4e78-b83f-84f933519185\n"
          ]
        },
        {
          "output_type": "stream",
          "name": "stderr",
          "text": [
            "WARNING:chromadb.segment.impl.vector.local_hnsw:Add of existing embedding ID: bafee306-ba19-41bb-9150-b9b19cc12a59\n"
          ]
        },
        {
          "output_type": "stream",
          "name": "stdout",
          "text": [
            "Add of existing embedding ID: bafee306-ba19-41bb-9150-b9b19cc12a59\n"
          ]
        },
        {
          "output_type": "stream",
          "name": "stderr",
          "text": [
            "WARNING:chromadb.segment.impl.vector.local_hnsw:Add of existing embedding ID: 3829f6ef-c5c7-4d3e-a027-eb8f0155e32d\n"
          ]
        },
        {
          "output_type": "stream",
          "name": "stdout",
          "text": [
            "Add of existing embedding ID: 3829f6ef-c5c7-4d3e-a027-eb8f0155e32d\n"
          ]
        },
        {
          "output_type": "stream",
          "name": "stderr",
          "text": [
            "WARNING:chromadb.segment.impl.vector.local_hnsw:Add of existing embedding ID: e3495c38-7df1-44fe-829f-4b6252cc4ba8\n"
          ]
        },
        {
          "output_type": "stream",
          "name": "stdout",
          "text": [
            "Add of existing embedding ID: e3495c38-7df1-44fe-829f-4b6252cc4ba8\n"
          ]
        },
        {
          "output_type": "stream",
          "name": "stderr",
          "text": [
            "WARNING:chromadb.segment.impl.vector.local_hnsw:Add of existing embedding ID: cb78f9b8-b355-4bde-aa04-23453cad2f81\n"
          ]
        },
        {
          "output_type": "stream",
          "name": "stdout",
          "text": [
            "Add of existing embedding ID: cb78f9b8-b355-4bde-aa04-23453cad2f81\n"
          ]
        },
        {
          "output_type": "stream",
          "name": "stderr",
          "text": [
            "WARNING:chromadb.segment.impl.vector.local_hnsw:Add of existing embedding ID: 117ab623-6405-4bab-ae47-46946dc422da\n"
          ]
        },
        {
          "output_type": "stream",
          "name": "stdout",
          "text": [
            "Add of existing embedding ID: 117ab623-6405-4bab-ae47-46946dc422da\n"
          ]
        },
        {
          "output_type": "stream",
          "name": "stderr",
          "text": [
            "WARNING:chromadb.segment.impl.vector.local_hnsw:Add of existing embedding ID: ca126023-1dfd-4df5-94b0-e2566dacb13f\n"
          ]
        },
        {
          "output_type": "stream",
          "name": "stdout",
          "text": [
            "Add of existing embedding ID: ca126023-1dfd-4df5-94b0-e2566dacb13f\n"
          ]
        },
        {
          "output_type": "stream",
          "name": "stderr",
          "text": [
            "WARNING:chromadb.segment.impl.vector.local_hnsw:Add of existing embedding ID: debeac6d-d63d-4bad-8cf2-0706c761b7f8\n"
          ]
        },
        {
          "output_type": "stream",
          "name": "stdout",
          "text": [
            "Add of existing embedding ID: debeac6d-d63d-4bad-8cf2-0706c761b7f8\n"
          ]
        },
        {
          "output_type": "stream",
          "name": "stderr",
          "text": [
            "WARNING:chromadb.segment.impl.vector.local_hnsw:Add of existing embedding ID: bb699810-0333-4e55-9967-54e489c0b971\n"
          ]
        },
        {
          "output_type": "stream",
          "name": "stdout",
          "text": [
            "Add of existing embedding ID: bb699810-0333-4e55-9967-54e489c0b971\n"
          ]
        },
        {
          "output_type": "stream",
          "name": "stderr",
          "text": [
            "WARNING:chromadb.segment.impl.vector.local_hnsw:Add of existing embedding ID: d0f7a634-ee85-4cf7-b70e-9c3423896e47\n"
          ]
        },
        {
          "output_type": "stream",
          "name": "stdout",
          "text": [
            "Add of existing embedding ID: d0f7a634-ee85-4cf7-b70e-9c3423896e47\n"
          ]
        },
        {
          "output_type": "stream",
          "name": "stderr",
          "text": [
            "WARNING:chromadb.segment.impl.vector.local_hnsw:Add of existing embedding ID: 593a6d01-fec2-4ffb-b849-cce41231cb24\n"
          ]
        },
        {
          "output_type": "stream",
          "name": "stdout",
          "text": [
            "Add of existing embedding ID: 593a6d01-fec2-4ffb-b849-cce41231cb24\n"
          ]
        },
        {
          "output_type": "stream",
          "name": "stderr",
          "text": [
            "WARNING:chromadb.segment.impl.vector.local_hnsw:Add of existing embedding ID: bcbf6a79-bd83-47f5-96ee-dc68fe2d3889\n"
          ]
        },
        {
          "output_type": "stream",
          "name": "stdout",
          "text": [
            "Add of existing embedding ID: bcbf6a79-bd83-47f5-96ee-dc68fe2d3889\n"
          ]
        },
        {
          "output_type": "stream",
          "name": "stderr",
          "text": [
            "WARNING:chromadb.segment.impl.vector.local_hnsw:Add of existing embedding ID: 6249b5a3-c823-4007-a041-03a34267bf36\n"
          ]
        },
        {
          "output_type": "stream",
          "name": "stdout",
          "text": [
            "Add of existing embedding ID: 6249b5a3-c823-4007-a041-03a34267bf36\n"
          ]
        },
        {
          "output_type": "stream",
          "name": "stderr",
          "text": [
            "WARNING:chromadb.segment.impl.vector.local_hnsw:Add of existing embedding ID: 3b252f9a-b1f5-43a9-b37c-110d068ae3af\n"
          ]
        },
        {
          "output_type": "stream",
          "name": "stdout",
          "text": [
            "Add of existing embedding ID: 3b252f9a-b1f5-43a9-b37c-110d068ae3af\n"
          ]
        },
        {
          "output_type": "stream",
          "name": "stderr",
          "text": [
            "WARNING:chromadb.segment.impl.vector.local_hnsw:Add of existing embedding ID: 7d5d143e-ac61-4eff-a770-dd4a9417d3df\n"
          ]
        },
        {
          "output_type": "stream",
          "name": "stdout",
          "text": [
            "Add of existing embedding ID: 7d5d143e-ac61-4eff-a770-dd4a9417d3df\n"
          ]
        },
        {
          "output_type": "stream",
          "name": "stderr",
          "text": [
            "WARNING:chromadb.segment.impl.vector.local_hnsw:Add of existing embedding ID: 6839ca75-738f-4c0c-a906-02f2c41e5a22\n"
          ]
        },
        {
          "output_type": "stream",
          "name": "stdout",
          "text": [
            "Add of existing embedding ID: 6839ca75-738f-4c0c-a906-02f2c41e5a22\n"
          ]
        },
        {
          "output_type": "stream",
          "name": "stderr",
          "text": [
            "WARNING:chromadb.segment.impl.vector.local_hnsw:Add of existing embedding ID: 44d6d7cf-11d9-4342-8daa-c207160c1c3f\n"
          ]
        },
        {
          "output_type": "stream",
          "name": "stdout",
          "text": [
            "Add of existing embedding ID: 44d6d7cf-11d9-4342-8daa-c207160c1c3f\n"
          ]
        },
        {
          "output_type": "stream",
          "name": "stderr",
          "text": [
            "WARNING:chromadb.segment.impl.vector.local_hnsw:Add of existing embedding ID: 568e1b54-cc45-4328-ab48-97d532f53015\n"
          ]
        },
        {
          "output_type": "stream",
          "name": "stdout",
          "text": [
            "Add of existing embedding ID: 568e1b54-cc45-4328-ab48-97d532f53015\n"
          ]
        },
        {
          "output_type": "stream",
          "name": "stderr",
          "text": [
            "WARNING:chromadb.segment.impl.vector.local_hnsw:Add of existing embedding ID: 6c171005-76dd-4318-8091-c007051e54c9\n"
          ]
        },
        {
          "output_type": "stream",
          "name": "stdout",
          "text": [
            "Add of existing embedding ID: 6c171005-76dd-4318-8091-c007051e54c9\n"
          ]
        },
        {
          "output_type": "stream",
          "name": "stderr",
          "text": [
            "WARNING:chromadb.segment.impl.vector.local_hnsw:Add of existing embedding ID: d500d88b-4f9f-4ed1-a489-46de42fe64c4\n"
          ]
        },
        {
          "output_type": "stream",
          "name": "stdout",
          "text": [
            "Add of existing embedding ID: d500d88b-4f9f-4ed1-a489-46de42fe64c4\n"
          ]
        },
        {
          "output_type": "stream",
          "name": "stderr",
          "text": [
            "WARNING:chromadb.segment.impl.vector.local_hnsw:Add of existing embedding ID: acd7d925-e59b-4941-bc53-8f0fc6ae6842\n"
          ]
        },
        {
          "output_type": "stream",
          "name": "stdout",
          "text": [
            "Add of existing embedding ID: acd7d925-e59b-4941-bc53-8f0fc6ae6842\n"
          ]
        },
        {
          "output_type": "stream",
          "name": "stderr",
          "text": [
            "WARNING:chromadb.segment.impl.vector.local_hnsw:Add of existing embedding ID: de5858c7-2627-47e3-b3c7-dca84b5cb278\n"
          ]
        },
        {
          "output_type": "stream",
          "name": "stdout",
          "text": [
            "Add of existing embedding ID: de5858c7-2627-47e3-b3c7-dca84b5cb278\n"
          ]
        },
        {
          "output_type": "stream",
          "name": "stderr",
          "text": [
            "WARNING:chromadb.segment.impl.metadata.sqlite:Insert of existing embedding ID: 629df6ea-6b38-4e78-b83f-84f933519185\n"
          ]
        },
        {
          "output_type": "stream",
          "name": "stdout",
          "text": [
            "Insert of existing embedding ID: 629df6ea-6b38-4e78-b83f-84f933519185\n"
          ]
        },
        {
          "output_type": "stream",
          "name": "stderr",
          "text": [
            "WARNING:chromadb.segment.impl.metadata.sqlite:Insert of existing embedding ID: bafee306-ba19-41bb-9150-b9b19cc12a59\n"
          ]
        },
        {
          "output_type": "stream",
          "name": "stdout",
          "text": [
            "Insert of existing embedding ID: bafee306-ba19-41bb-9150-b9b19cc12a59\n"
          ]
        },
        {
          "output_type": "stream",
          "name": "stderr",
          "text": [
            "WARNING:chromadb.segment.impl.metadata.sqlite:Insert of existing embedding ID: 3829f6ef-c5c7-4d3e-a027-eb8f0155e32d\n"
          ]
        },
        {
          "output_type": "stream",
          "name": "stdout",
          "text": [
            "Insert of existing embedding ID: 3829f6ef-c5c7-4d3e-a027-eb8f0155e32d\n"
          ]
        },
        {
          "output_type": "stream",
          "name": "stderr",
          "text": [
            "WARNING:chromadb.segment.impl.metadata.sqlite:Insert of existing embedding ID: e3495c38-7df1-44fe-829f-4b6252cc4ba8\n"
          ]
        },
        {
          "output_type": "stream",
          "name": "stdout",
          "text": [
            "Insert of existing embedding ID: e3495c38-7df1-44fe-829f-4b6252cc4ba8\n"
          ]
        },
        {
          "output_type": "stream",
          "name": "stderr",
          "text": [
            "WARNING:chromadb.segment.impl.metadata.sqlite:Insert of existing embedding ID: cb78f9b8-b355-4bde-aa04-23453cad2f81\n"
          ]
        },
        {
          "output_type": "stream",
          "name": "stdout",
          "text": [
            "Insert of existing embedding ID: cb78f9b8-b355-4bde-aa04-23453cad2f81\n"
          ]
        },
        {
          "output_type": "stream",
          "name": "stderr",
          "text": [
            "WARNING:chromadb.segment.impl.metadata.sqlite:Insert of existing embedding ID: 117ab623-6405-4bab-ae47-46946dc422da\n"
          ]
        },
        {
          "output_type": "stream",
          "name": "stdout",
          "text": [
            "Insert of existing embedding ID: 117ab623-6405-4bab-ae47-46946dc422da\n"
          ]
        },
        {
          "output_type": "stream",
          "name": "stderr",
          "text": [
            "WARNING:chromadb.segment.impl.metadata.sqlite:Insert of existing embedding ID: ca126023-1dfd-4df5-94b0-e2566dacb13f\n"
          ]
        },
        {
          "output_type": "stream",
          "name": "stdout",
          "text": [
            "Insert of existing embedding ID: ca126023-1dfd-4df5-94b0-e2566dacb13f\n"
          ]
        },
        {
          "output_type": "stream",
          "name": "stderr",
          "text": [
            "WARNING:chromadb.segment.impl.metadata.sqlite:Insert of existing embedding ID: debeac6d-d63d-4bad-8cf2-0706c761b7f8\n"
          ]
        },
        {
          "output_type": "stream",
          "name": "stdout",
          "text": [
            "Insert of existing embedding ID: debeac6d-d63d-4bad-8cf2-0706c761b7f8\n"
          ]
        },
        {
          "output_type": "stream",
          "name": "stderr",
          "text": [
            "WARNING:chromadb.segment.impl.metadata.sqlite:Insert of existing embedding ID: bb699810-0333-4e55-9967-54e489c0b971\n"
          ]
        },
        {
          "output_type": "stream",
          "name": "stdout",
          "text": [
            "Insert of existing embedding ID: bb699810-0333-4e55-9967-54e489c0b971\n"
          ]
        },
        {
          "output_type": "stream",
          "name": "stderr",
          "text": [
            "WARNING:chromadb.segment.impl.metadata.sqlite:Insert of existing embedding ID: d0f7a634-ee85-4cf7-b70e-9c3423896e47\n"
          ]
        },
        {
          "output_type": "stream",
          "name": "stdout",
          "text": [
            "Insert of existing embedding ID: d0f7a634-ee85-4cf7-b70e-9c3423896e47\n"
          ]
        },
        {
          "output_type": "stream",
          "name": "stderr",
          "text": [
            "WARNING:chromadb.segment.impl.metadata.sqlite:Insert of existing embedding ID: 593a6d01-fec2-4ffb-b849-cce41231cb24\n"
          ]
        },
        {
          "output_type": "stream",
          "name": "stdout",
          "text": [
            "Insert of existing embedding ID: 593a6d01-fec2-4ffb-b849-cce41231cb24\n"
          ]
        },
        {
          "output_type": "stream",
          "name": "stderr",
          "text": [
            "WARNING:chromadb.segment.impl.metadata.sqlite:Insert of existing embedding ID: bcbf6a79-bd83-47f5-96ee-dc68fe2d3889\n"
          ]
        },
        {
          "output_type": "stream",
          "name": "stdout",
          "text": [
            "Insert of existing embedding ID: bcbf6a79-bd83-47f5-96ee-dc68fe2d3889\n"
          ]
        },
        {
          "output_type": "stream",
          "name": "stderr",
          "text": [
            "WARNING:chromadb.segment.impl.metadata.sqlite:Insert of existing embedding ID: 6249b5a3-c823-4007-a041-03a34267bf36\n"
          ]
        },
        {
          "output_type": "stream",
          "name": "stdout",
          "text": [
            "Insert of existing embedding ID: 6249b5a3-c823-4007-a041-03a34267bf36\n"
          ]
        },
        {
          "output_type": "stream",
          "name": "stderr",
          "text": [
            "WARNING:chromadb.segment.impl.metadata.sqlite:Insert of existing embedding ID: 3b252f9a-b1f5-43a9-b37c-110d068ae3af\n"
          ]
        },
        {
          "output_type": "stream",
          "name": "stdout",
          "text": [
            "Insert of existing embedding ID: 3b252f9a-b1f5-43a9-b37c-110d068ae3af\n"
          ]
        },
        {
          "output_type": "stream",
          "name": "stderr",
          "text": [
            "WARNING:chromadb.segment.impl.metadata.sqlite:Insert of existing embedding ID: 7d5d143e-ac61-4eff-a770-dd4a9417d3df\n"
          ]
        },
        {
          "output_type": "stream",
          "name": "stdout",
          "text": [
            "Insert of existing embedding ID: 7d5d143e-ac61-4eff-a770-dd4a9417d3df\n"
          ]
        },
        {
          "output_type": "stream",
          "name": "stderr",
          "text": [
            "WARNING:chromadb.segment.impl.metadata.sqlite:Insert of existing embedding ID: 6839ca75-738f-4c0c-a906-02f2c41e5a22\n"
          ]
        },
        {
          "output_type": "stream",
          "name": "stdout",
          "text": [
            "Insert of existing embedding ID: 6839ca75-738f-4c0c-a906-02f2c41e5a22\n"
          ]
        },
        {
          "output_type": "stream",
          "name": "stderr",
          "text": [
            "WARNING:chromadb.segment.impl.metadata.sqlite:Insert of existing embedding ID: 44d6d7cf-11d9-4342-8daa-c207160c1c3f\n"
          ]
        },
        {
          "output_type": "stream",
          "name": "stdout",
          "text": [
            "Insert of existing embedding ID: 44d6d7cf-11d9-4342-8daa-c207160c1c3f\n"
          ]
        },
        {
          "output_type": "stream",
          "name": "stderr",
          "text": [
            "WARNING:chromadb.segment.impl.metadata.sqlite:Insert of existing embedding ID: 568e1b54-cc45-4328-ab48-97d532f53015\n"
          ]
        },
        {
          "output_type": "stream",
          "name": "stdout",
          "text": [
            "Insert of existing embedding ID: 568e1b54-cc45-4328-ab48-97d532f53015\n"
          ]
        },
        {
          "output_type": "stream",
          "name": "stderr",
          "text": [
            "WARNING:chromadb.segment.impl.metadata.sqlite:Insert of existing embedding ID: 6c171005-76dd-4318-8091-c007051e54c9\n"
          ]
        },
        {
          "output_type": "stream",
          "name": "stdout",
          "text": [
            "Insert of existing embedding ID: 6c171005-76dd-4318-8091-c007051e54c9\n"
          ]
        },
        {
          "output_type": "stream",
          "name": "stderr",
          "text": [
            "WARNING:chromadb.segment.impl.metadata.sqlite:Insert of existing embedding ID: d500d88b-4f9f-4ed1-a489-46de42fe64c4\n"
          ]
        },
        {
          "output_type": "stream",
          "name": "stdout",
          "text": [
            "Insert of existing embedding ID: d500d88b-4f9f-4ed1-a489-46de42fe64c4\n"
          ]
        },
        {
          "output_type": "stream",
          "name": "stderr",
          "text": [
            "WARNING:chromadb.segment.impl.metadata.sqlite:Insert of existing embedding ID: acd7d925-e59b-4941-bc53-8f0fc6ae6842\n"
          ]
        },
        {
          "output_type": "stream",
          "name": "stdout",
          "text": [
            "Insert of existing embedding ID: acd7d925-e59b-4941-bc53-8f0fc6ae6842\n"
          ]
        },
        {
          "output_type": "stream",
          "name": "stderr",
          "text": [
            "WARNING:chromadb.segment.impl.metadata.sqlite:Insert of existing embedding ID: de5858c7-2627-47e3-b3c7-dca84b5cb278\n"
          ]
        },
        {
          "output_type": "stream",
          "name": "stdout",
          "text": [
            "Insert of existing embedding ID: de5858c7-2627-47e3-b3c7-dca84b5cb278\n"
          ]
        }
      ],
      "source": [
        "from llama_index.core import SimpleDirectoryReader\n",
        "from llama_index.core.ingestion import IngestionPipeline\n",
        "from llama_index.core.node_parser import TokenTextSplitter\n",
        "from llama_index.core.extractors import TitleExtractor\n",
        "\n",
        "pipeline = IngestionPipeline(transformations=[TokenTextSplitter()])\n",
        "\n",
        "for movie, wiki_doc in zip(movie_list, wiki_docs):\n",
        "    nodes = pipeline.run(documents=wiki_docs)\n",
        "    for node in nodes:\n",
        "        node.metadata = {\"title\" : movie}\n",
        "    index.insert_nodes(nodes)"
      ]
    },
    {
      "cell_type": "markdown",
      "source": [
        "####❓ Question #1:\n",
        "\n",
        "What `metadata` fields will the nodes in our index have?\n",
        "\n",
        "Please write the code to find this information."
      ],
      "metadata": {
        "id": "biVzC-I4UAmB"
      }
    },
    {
      "cell_type": "markdown",
      "source": [
        "Nodes have node_content, node_type, doc_id, document_id, ref_doc_id, and title metadata fields.![Screenshot 2024-03-10 222813.png](data:image/png;base64,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)"
      ],
      "metadata": {
        "id": "7t0Ir086QRVk"
      }
    },
    {
      "cell_type": "code",
      "source": [
        "chroma_collection.get(limit=1)['metadatas']"
      ],
      "metadata": {
        "id": "mt1lhxEnUKxO",
        "colab": {
          "base_uri": "https://localhost:8080/"
        },
        "outputId": "c680db02-9b4d-4bd3-be5a-fccea33b98af"
      },
      "execution_count": 16,
      "outputs": [
        {
          "output_type": "execute_result",
          "data": {
            "text/plain": [
              "[{'_node_content': '{\"id_\": \"117ab623-6405-4bab-ae47-46946dc422da\", \"embedding\": null, \"metadata\": {\"title\": \"Dune (2021 film)\"}, \"excluded_embed_metadata_keys\": [], \"excluded_llm_metadata_keys\": [], \"relationships\": {\"1\": {\"node_id\": \"52659577\", \"node_type\": \"4\", \"metadata\": {}, \"hash\": \"94437abde4688b78da6c963f163dc942d6c1ac973dad22f0e33103c22eed832f\", \"class_name\": \"RelatedNodeInfo\"}, \"2\": {\"node_id\": \"cb78f9b8-b355-4bde-aa04-23453cad2f81\", \"node_type\": \"1\", \"metadata\": {}, \"hash\": \"845d0707bf171b8d5d53f1f898c2684a25c301c0296a2d4da43b94051b8b8fb1\", \"class_name\": \"RelatedNodeInfo\"}, \"3\": {\"node_id\": \"ca126023-1dfd-4df5-94b0-e2566dacb13f\", \"node_type\": \"1\", \"metadata\": {}, \"hash\": \"272b349fffaf9ba2fe1b5d12cfc23c3cf0d6b511aeb6fc808da2efda1cfc4fe1\", \"class_name\": \"RelatedNodeInfo\"}}, \"text\": \"\", \"start_char_idx\": 22314, \"end_char_idx\": 27168, \"text_template\": \"{metadata_str}\\\\n\\\\n{content}\", \"metadata_template\": \"{key}: {value}\", \"metadata_seperator\": \"\\\\n\", \"class_name\": \"TextNode\"}',\n",
              "  '_node_type': 'TextNode',\n",
              "  'doc_id': '52659577',\n",
              "  'document_id': '52659577',\n",
              "  'ref_doc_id': '52659577',\n",
              "  'title': 'Dune (2021 film)'}]"
            ]
          },
          "metadata": {},
          "execution_count": 16
        }
      ]
    },
    {
      "cell_type": "markdown",
      "source": [
        "### Persisting and Loading Stored Index with Weights and Biases\n",
        "\n",
        "Now we can utilize a powerful feature of Weights and Biases - index and artifact versioning!\n",
        "\n",
        "We can persist our index to WandB to be used and loaded later!"
      ],
      "metadata": {
        "id": "Sfbon1BwSLFS"
      }
    },
    {
      "cell_type": "code",
      "source": [
        "wandb_callback.persist_index(index, index_name=\"dune-index-chromadb\")"
      ],
      "metadata": {
        "colab": {
          "base_uri": "https://localhost:8080/"
        },
        "id": "PHJd00J3G48_",
        "outputId": "90c94c96-804e-4d02-8ecc-b721d39fd3ab"
      },
      "execution_count": 17,
      "outputs": [
        {
          "output_type": "stream",
          "name": "stderr",
          "text": [
            "\u001b[34m\u001b[1mwandb\u001b[0m: Adding directory to artifact (/content/wandb/run-20240310_212111-yhrwjqdr/files/storage)... Done. 0.0s\n"
          ]
        }
      ]
    },
    {
      "cell_type": "markdown",
      "source": [
        "Now we can load our index from WandB, which is a truly powerful tool!"
      ],
      "metadata": {
        "id": "jvpHLt8UShKa"
      }
    },
    {
      "cell_type": "code",
      "source": [
        "from llama_index.core import load_index_from_storage\n",
        "\n",
        "storage_context = wandb_callback.load_storage_context(\n",
        "    artifact_url=\"waqasjavedkhan/aie1-llama-index-demo/dune-index-chromadb:v0\"\n",
        ")"
      ],
      "metadata": {
        "colab": {
          "base_uri": "https://localhost:8080/"
        },
        "id": "FDZLmqTDHDrZ",
        "outputId": "df87bf61-4fdd-4a26-bbe0-62758695de86"
      },
      "execution_count": 19,
      "outputs": [
        {
          "output_type": "stream",
          "name": "stderr",
          "text": [
            "\u001b[34m\u001b[1mwandb\u001b[0m: \\ 1 of 4 files downloaded...\r\u001b[34m\u001b[1mwandb\u001b[0m:   4 of 4 files downloaded.  \n"
          ]
        }
      ]
    },
    {
      "cell_type": "markdown",
      "source": [
        "####❓ Question #2:\n",
        "\n",
        "Provide a screenshot of your index version history as shown in WandB."
      ],
      "metadata": {
        "id": "G0pwSiOxUYCE"
      }
    },
    {
      "cell_type": "markdown",
      "source": [
        "[Screenshot hosted on Github](https://github.com/waqasjavedkhan/AIE/blob/main/Week%204/Day%202/Screenshot%202024-03-10%20222813.png)"
      ],
      "metadata": {
        "id": "gSjJz0AeQ46C"
      }
    },
    {
      "cell_type": "markdown",
      "metadata": {
        "id": "YUa5sHMsSV__"
      },
      "source": [
        "### Auto Retriever Functional Tool\n",
        "\n",
        "This tool will leverage OpenAI's functional endpoint to select the correct metadata filter and query the filtered index - only looking at nodes with the desired metadata.\n",
        "\n",
        "A simplified diagram: ![image](https://i.imgur.com/AICDPav.png)"
      ]
    },
    {
      "cell_type": "markdown",
      "metadata": {
        "id": "Z2HQHY3pSV__"
      },
      "source": [
        "First, we need to create our `VectoreStoreInfo` object which will hold all the relevant metadata we need for each component (in this case title metadata).\n",
        "\n",
        "Notice that you need to include it in a text list."
      ]
    },
    {
      "cell_type": "code",
      "execution_count": 20,
      "metadata": {
        "id": "KoAYxbdsSV__"
      },
      "outputs": [],
      "source": [
        "from llama_index.core.tools import FunctionTool\n",
        "from llama_index.core.vector_stores.types import (\n",
        "    VectorStoreInfo,\n",
        "    MetadataInfo,\n",
        "    ExactMatchFilter,\n",
        "    MetadataFilters,\n",
        ")\n",
        "from llama_index.core.retrievers import VectorIndexRetriever\n",
        "from llama_index.core.query_engine import RetrieverQueryEngine\n",
        "\n",
        "from typing import List, Tuple, Any\n",
        "from pydantic import BaseModel, Field\n",
        "\n",
        "top_k = 3\n",
        "\n",
        "vector_store_info = VectorStoreInfo(\n",
        "    content_info=\"semantic information about movies\",\n",
        "    metadata_info=[MetadataInfo(\n",
        "        name=\"title\",\n",
        "        type=\"str\",\n",
        "        description=\"title of the movie, one of ['Dune (2021 film)', 'Dune: Part 2']\",\n",
        "    )]\n",
        ")"
      ]
    },
    {
      "cell_type": "markdown",
      "metadata": {
        "id": "NEjK7jcsSV__"
      },
      "source": [
        "Now we'll create our base PyDantic object that we can use to ensure compatability with our application layer. This verifies that the response from the OpenAI endpoint conforms to this schema."
      ]
    },
    {
      "cell_type": "code",
      "execution_count": 21,
      "metadata": {
        "id": "yixkwF8zSV__"
      },
      "outputs": [],
      "source": [
        "class AutoRetrieveModel(BaseModel):\n",
        "    query: str = Field(..., description=\"natural language query string\")\n",
        "    filter_key_list: List[str] = Field(\n",
        "        ..., description=\"List of metadata filter field names\"\n",
        "    )\n",
        "    filter_value_list: List[str] = Field(\n",
        "        ...,\n",
        "        description=(\n",
        "            \"List of metadata filter field values (corresponding to names specified in filter_key_list)\"\n",
        "        )\n",
        "    )"
      ]
    },
    {
      "cell_type": "markdown",
      "metadata": {
        "id": "Ep6ORS3FSV__"
      },
      "source": [
        "Now we can build our function that we will use to query the functional endpoint."
      ]
    },
    {
      "cell_type": "code",
      "execution_count": 22,
      "metadata": {
        "id": "y8sPThxlSV__"
      },
      "outputs": [],
      "source": [
        "def auto_retrieve_fn(\n",
        "    query: str, filter_key_list: List[str], filter_value_list: List[str]\n",
        "):\n",
        "    \"\"\"Auto retrieval function.\n",
        "\n",
        "    Performs auto-retrieval from a vector database, and then applies a set of filters.\n",
        "\n",
        "    \"\"\"\n",
        "    query = query or \"Query\"\n",
        "\n",
        "    exact_match_filters = [\n",
        "        ExactMatchFilter(key=k, value=v)\n",
        "        for k, v in zip(filter_key_list, filter_value_list)\n",
        "    ]\n",
        "    retriever = VectorIndexRetriever(\n",
        "        index, filters=MetadataFilters(filters=exact_match_filters), top_k=top_k\n",
        "    )\n",
        "    query_engine = RetrieverQueryEngine.from_args(retriever)\n",
        "\n",
        "    response = query_engine.query(query)\n",
        "    return str(response)"
      ]
    },
    {
      "cell_type": "markdown",
      "metadata": {
        "id": "Yt4BV6oISV__"
      },
      "source": [
        "Now we need to wrap our system in a tool in order to integrate it into the larger application.\n",
        "\n",
        "Source Code Here:\n",
        "- [`FunctionTool`](https://github.com/jerryjliu/llama_index/blob/d24767b0812ac56104497d8f59095eccbe9f2b08/llama_index/tools/function_tool.py#L21)"
      ]
    },
    {
      "cell_type": "code",
      "execution_count": 23,
      "metadata": {
        "id": "U4lS1NqeSV__"
      },
      "outputs": [],
      "source": [
        "description = f\"\"\"\\\n",
        "Use this tool to look up semantic information about films.\n",
        "The vector database schema is given below:\n",
        "{vector_store_info.json()}\n",
        "\"\"\"\n",
        "\n",
        "auto_retrieve_tool = FunctionTool.from_defaults(\n",
        "    fn=auto_retrieve_fn,\n",
        "    name=\"semantic-film-info\",\n",
        "    description=description,\n",
        "    fn_schema=AutoRetrieveModel\n",
        ")"
      ]
    },
    {
      "cell_type": "markdown",
      "source": [
        "####❓ Question #3:\n",
        "\n",
        "Is the text in the description of our `FunctionTool` important or not? Please explain your answer."
      ],
      "metadata": {
        "id": "9YkXmlexUnP_"
      }
    },
    {
      "cell_type": "markdown",
      "source": [
        "Answer: The description is important because it will help the agent decide when to use the tool."
      ],
      "metadata": {
        "id": "0RYRIqWLSvnz"
      }
    },
    {
      "cell_type": "markdown",
      "metadata": {
        "id": "ZblimmXVSV__"
      },
      "source": [
        "All that's left to do is attach the tool to an OpenAIAgent and let it rip!\n",
        "\n",
        "Source Code Here:\n",
        "- [`OpenAIAgent`](https://github.com/jerryjliu/llama_index/blob/d24767b0812ac56104497d8f59095eccbe9f2b08/llama_index/agent/openai_agent.py#L361)"
      ]
    },
    {
      "cell_type": "code",
      "execution_count": 24,
      "metadata": {
        "id": "W2hafCTxSV__"
      },
      "outputs": [],
      "source": [
        "from llama_index.agent.openai import OpenAIAgent\n",
        "\n",
        "agent = OpenAIAgent.from_tools(\n",
        "    tools=[auto_retrieve_tool],\n",
        "    verbose=True,\n",
        ")"
      ]
    },
    {
      "cell_type": "code",
      "execution_count": 25,
      "metadata": {
        "id": "DBJWDBK5SV__",
        "outputId": "23128167-3deb-47ae-ace7-25551fa5307d",
        "colab": {
          "base_uri": "https://localhost:8080/"
        }
      },
      "outputs": [
        {
          "output_type": "stream",
          "name": "stdout",
          "text": [
            "Added user message to memory: Who starred in the 2021 film?\n",
            "=== Calling Function ===\n",
            "Calling function: semantic-film-info with args: {\"query\":\"cast\",\"filter_key_list\":[\"title\"],\"filter_value_list\":[\"Dune (2021 film)\"]}\n",
            "Got output: The casting process for the film \"Dune\" involved a variety of actors being considered and selected for different roles. Some actors, like Rebecca Ferguson and Dave Bautista, were initially hesitant but eventually accepted their roles after discussions with the director and reading the source material. Others, such as Oscar Isaac and Zendaya, expressed interest in being part of the film and were later cast in specific roles. The casting director compiled audition tapes for secondary roles, and the director personally contacted some actors to offer them roles based on his vision for the characters. Additionally, there were instances where actors like Josh Brolin and Jason Momoa shared amusing anecdotes about how they accepted their roles in the film.\n",
            "========================\n",
            "\n"
          ]
        },
        {
          "output_type": "stream",
          "name": "stderr",
          "text": [
            "\u001b[34m\u001b[1mwandb\u001b[0m: Logged trace tree to W&B.\n"
          ]
        },
        {
          "output_type": "stream",
          "name": "stdout",
          "text": [
            "The casting for the 2021 film \"Dune\" included a talented ensemble of actors such as Rebecca Ferguson, Dave Bautista, Oscar Isaac, Zendaya, Josh Brolin, and Jason Momoa, among others.\n"
          ]
        }
      ],
      "source": [
        "response = agent.chat(\"Who starred in the 2021 film?\")\n",
        "print(str(response))"
      ]
    },
    {
      "cell_type": "markdown",
      "source": [
        "# 🤝 Breakout Room #2"
      ],
      "metadata": {
        "id": "kbhAT68RSvnT"
      }
    },
    {
      "cell_type": "markdown",
      "metadata": {
        "id": "yJcJL7VXSV__"
      },
      "source": [
        "## Task 1: Quantitative RAG Pipeline with NL2SQL Tooling\n",
        "\n",
        "We'll walk through the steps of creating a natural language to SQL system in the following section.\n",
        "\n",
        "> NOTICE: This does not have parsing on the inputs or intermediary calls to ensure that users are using safe SQL queries. Use this with caution in a production environment without adding specific guardrails from either side of the application."
      ]
    },
    {
      "cell_type": "markdown",
      "metadata": {
        "id": "SsVcM0-4SV__"
      },
      "source": [
        "The next few steps should be largely straightforward, we'll want to:\n",
        "\n",
        "1. Read in our `.csv` files into `pd.DataFrame` objects\n",
        "2. Create an in-memory `sqlite` powered `sqlalchemy` engine\n",
        "3. Cast our `pd.DataFrame` objects to the SQL engine\n",
        "4. Create an `SQLDatabase` object through LlamaIndex\n",
        "5. Use that to create a `QueryEngineTool` that we can interact with through the `NLSQLTableQueryEngine`!\n",
        "\n",
        "If you get stuck, please consult the documentation."
      ]
    },
    {
      "cell_type": "code",
      "source": [
        "!wget https://raw.githubusercontent.com/AI-Maker-Space/DataRepository/main/dune1.csv"
      ],
      "metadata": {
        "id": "WwWOygTqlNBh",
        "colab": {
          "base_uri": "https://localhost:8080/"
        },
        "outputId": "a1b8de9d-ef35-4537-9d61-04156f9c48b3"
      },
      "execution_count": 26,
      "outputs": [
        {
          "output_type": "stream",
          "name": "stdout",
          "text": [
            "--2024-03-10 21:37:57--  https://raw.githubusercontent.com/AI-Maker-Space/DataRepository/main/dune1.csv\n",
            "Resolving raw.githubusercontent.com (raw.githubusercontent.com)... 185.199.108.133, 185.199.109.133, 185.199.110.133, ...\n",
            "Connecting to raw.githubusercontent.com (raw.githubusercontent.com)|185.199.108.133|:443... connected.\n",
            "HTTP request sent, awaiting response... 200 OK\n",
            "Length: 133391 (130K) [text/plain]\n",
            "Saving to: ‘dune1.csv’\n",
            "\n",
            "dune1.csv           100%[===================>] 130.26K  --.-KB/s    in 0.01s   \n",
            "\n",
            "2024-03-10 21:37:57 (10.4 MB/s) - ‘dune1.csv’ saved [133391/133391]\n",
            "\n"
          ]
        }
      ]
    },
    {
      "cell_type": "code",
      "source": [
        "!wget https://raw.githubusercontent.com/AI-Maker-Space/DataRepository/main/dune2.csv"
      ],
      "metadata": {
        "id": "TD_9LPL9lTlG",
        "colab": {
          "base_uri": "https://localhost:8080/"
        },
        "outputId": "e4be7366-533d-479b-f3c6-9dbc0af3576f"
      },
      "execution_count": 27,
      "outputs": [
        {
          "output_type": "stream",
          "name": "stdout",
          "text": [
            "--2024-03-10 21:38:01--  https://raw.githubusercontent.com/AI-Maker-Space/DataRepository/main/dune2.csv\n",
            "Resolving raw.githubusercontent.com (raw.githubusercontent.com)... 185.199.108.133, 185.199.109.133, 185.199.110.133, ...\n",
            "Connecting to raw.githubusercontent.com (raw.githubusercontent.com)|185.199.108.133|:443... connected.\n",
            "HTTP request sent, awaiting response... 200 OK\n",
            "Length: 111843 (109K) [text/plain]\n",
            "Saving to: ‘dune2.csv’\n",
            "\n",
            "\rdune2.csv             0%[                    ]       0  --.-KB/s               \rdune2.csv           100%[===================>] 109.22K  --.-KB/s    in 0.01s   \n",
            "\n",
            "2024-03-10 21:38:01 (7.69 MB/s) - ‘dune2.csv’ saved [111843/111843]\n",
            "\n"
          ]
        }
      ]
    },
    {
      "cell_type": "markdown",
      "metadata": {
        "id": "8PUg-ZuTSWAC"
      },
      "source": [
        "#### Read `.csv` Into Pandas"
      ]
    },
    {
      "cell_type": "code",
      "execution_count": 28,
      "metadata": {
        "id": "52Hd8PM4SWAC"
      },
      "outputs": [],
      "source": [
        "import pandas as pd\n",
        "\n",
        "dune1_df = pd.read_csv(\"./dune1.csv\")\n",
        "dune2_df = pd.read_csv(\"./dune2.csv\")"
      ]
    },
    {
      "cell_type": "markdown",
      "metadata": {
        "id": "fPTNyqmpSWAC"
      },
      "source": [
        "#### Create SQLAlchemy engine with SQLite"
      ]
    },
    {
      "cell_type": "code",
      "execution_count": 29,
      "metadata": {
        "id": "4lfuPKYBSWAC"
      },
      "outputs": [],
      "source": [
        "from sqlalchemy import create_engine\n",
        "\n",
        "engine = create_engine(\"sqlite+pysqlite:///:memory:\")"
      ]
    },
    {
      "cell_type": "markdown",
      "metadata": {
        "id": "iJiYiSuHSWAC"
      },
      "source": [
        "#### Convert `pd.DataFrame` to SQL tables"
      ]
    },
    {
      "cell_type": "code",
      "execution_count": 30,
      "metadata": {
        "id": "W-96asUHSWAC",
        "outputId": "fb4c3510-46df-42ad-b9dd-dcc287d58766",
        "colab": {
          "base_uri": "https://localhost:8080/"
        }
      },
      "outputs": [
        {
          "output_type": "execute_result",
          "data": {
            "text/plain": [
              "274"
            ]
          },
          "metadata": {},
          "execution_count": 30
        }
      ],
      "source": [
        "dune1_df.to_sql(\n",
        "    \"Dune (2021 film)\",\n",
        "    engine\n",
        ")"
      ]
    },
    {
      "cell_type": "code",
      "execution_count": 31,
      "metadata": {
        "id": "ZwOi1RE1SWAC",
        "outputId": "7b16b171-3df5-4f53-c918-f452b4a27977",
        "colab": {
          "base_uri": "https://localhost:8080/"
        }
      },
      "outputs": [
        {
          "output_type": "execute_result",
          "data": {
            "text/plain": [
              "175"
            ]
          },
          "metadata": {},
          "execution_count": 31
        }
      ],
      "source": [
        "dune2_df.to_sql(\n",
        "    \"Dune: Part 2\",\n",
        "    engine\n",
        ")"
      ]
    },
    {
      "cell_type": "markdown",
      "metadata": {
        "id": "pibA9qT7SWAC"
      },
      "source": [
        "#### Construct a `SQLDatabase` index\n",
        "\n",
        "Source Code Here:\n",
        "- [`SQLDatabase`](https://github.com/jerryjliu/llama_index/blob/d24767b0812ac56104497d8f59095eccbe9f2b08/llama_index/langchain_helpers/sql_wrapper.py#L9)"
      ]
    },
    {
      "cell_type": "code",
      "execution_count": 32,
      "metadata": {
        "id": "yeDYpR1LSWAD"
      },
      "outputs": [],
      "source": [
        "from llama_index.core import SQLDatabase\n",
        "\n",
        "sql_database = SQLDatabase(\n",
        "    engine=engine,\n",
        "    include_tables=[\"Dune (2021 film)\", \"Dune: Part 2\"]\n",
        ")"
      ]
    },
    {
      "cell_type": "markdown",
      "metadata": {
        "id": "-7VfZBenSWAD"
      },
      "source": [
        "#### Create the NLSQLTableQueryEngine interface for all added SQL tables\n",
        "\n",
        "Source Code Here:\n",
        "- [`NLSQLTableQueryEngine`](https://github.com/jerryjliu/llama_index/blob/d24767b0812ac56104497d8f59095eccbe9f2b08/llama_index/indices/struct_store/sql_query.py#L75C1-L75C1)"
      ]
    },
    {
      "cell_type": "code",
      "execution_count": 33,
      "metadata": {
        "id": "zQWSdMtrSWAD"
      },
      "outputs": [],
      "source": [
        "from llama_index.core.indices.struct_store.sql_query import NLSQLTableQueryEngine\n",
        "\n",
        "sql_query_engine = NLSQLTableQueryEngine(\n",
        "    sql_database=sql_database,\n",
        "    tables=[\"Dune (2021 film)\", \"Dune: Part 2\"],\n",
        ")"
      ]
    },
    {
      "cell_type": "markdown",
      "metadata": {
        "id": "yu8WfwuTSWAD"
      },
      "source": [
        "#### Wrap It All Up in a `QueryEngineTool`\n",
        "\n",
        "You'll want to ensure you have a descriptive...description.\n",
        "\n",
        "An example is provided here:\n",
        "\n",
        "```\n",
        "Useful for translating a natural language query into a SQL query over a table containing:\n",
        "John Wick 1, containing information related to reviews of the first John Wick movie, called John Wick\n",
        "John Wick 2, containing information related to reviews of the second John Wick movie, called John Wick: Chapter 2\n",
        "John Wick 3, containing information related to reviews of the third John Wick movie, called John Wick: Chatper 3 - Parabellum\n",
        "John Wick 4, containing information related to reviews of the fourth John Wick movie, called John Wick: Chatper 4\n",
        "```\n",
        "\n",
        "Sorce Code Here:\n",
        "\n",
        "- [`QueryEngineTool`](https://github.com/jerryjliu/llama_index/blob/d24767b0812ac56104497d8f59095eccbe9f2b08/llama_index/tools/query_engine.py#L13)"
      ]
    },
    {
      "cell_type": "markdown",
      "source": [
        "####🏗️ Activity #1:\n",
        "\n",
        "Please write a Natural Language Description for the tables that we are using today."
      ],
      "metadata": {
        "id": "yDB2m2dnU54L"
      }
    },
    {
      "cell_type": "code",
      "source": [
        "DESCRIPTION = \"\"\"\\You are a translator responsible for translating natural language query into a SQL query over tables containing:\n",
        "Dune (2021 film), containing information related to reviews of the first Dune movie, called Dune (2021 film)\n",
        "Dune: Part 2, containing information related to reviews of the second Dune movie, called Dune: Part 2\n",
        "\"\"\""
      ],
      "metadata": {
        "id": "4n567cXVVCtX"
      },
      "execution_count": 34,
      "outputs": []
    },
    {
      "cell_type": "code",
      "execution_count": 35,
      "metadata": {
        "id": "y-mmcBbLSWAD"
      },
      "outputs": [],
      "source": [
        "from llama_index.core.tools.query_engine import QueryEngineTool\n",
        "\n",
        "sql_tool = QueryEngineTool.from_defaults(\n",
        "    query_engine=sql_query_engine,\n",
        "    name=\"sql-query\",\n",
        "    description=DESCRIPTION,\n",
        ")"
      ]
    },
    {
      "cell_type": "code",
      "execution_count": 36,
      "metadata": {
        "id": "feOrlq4XSWAD"
      },
      "outputs": [],
      "source": [
        "agent = OpenAIAgent.from_tools(\n",
        "    tools=[sql_tool],\n",
        "    verbose=True\n",
        ")"
      ]
    },
    {
      "cell_type": "code",
      "execution_count": 37,
      "metadata": {
        "id": "iT4G6stBSWAD",
        "outputId": "246d376e-e7a2-4016-a183-80304dce19b9",
        "colab": {
          "base_uri": "https://localhost:8080/"
        }
      },
      "outputs": [
        {
          "output_type": "stream",
          "name": "stdout",
          "text": [
            "Added user message to memory: What is the average rating of the 2nd Dune movie?\n",
            "=== Calling Function ===\n",
            "Calling function: sql-query with args: {\"input\":\"SELECT AVG(rating) FROM 'Dune: Part 2'\"}\n",
            "Got output: The average rating for \"Dune: Part 2\" is approximately 8.71.\n",
            "========================\n",
            "\n"
          ]
        },
        {
          "output_type": "stream",
          "name": "stderr",
          "text": [
            "\u001b[34m\u001b[1mwandb\u001b[0m: Logged trace tree to W&B.\n"
          ]
        }
      ],
      "source": [
        "response = agent.chat(\"What is the average rating of the 2nd Dune movie?\")"
      ]
    },
    {
      "cell_type": "code",
      "execution_count": 38,
      "metadata": {
        "id": "NhsoxOpkSWAD",
        "outputId": "f5291491-5453-4bb4-93ee-5e45b9927f3b",
        "colab": {
          "base_uri": "https://localhost:8080/"
        }
      },
      "outputs": [
        {
          "output_type": "stream",
          "name": "stdout",
          "text": [
            "The average rating for the 2nd Dune movie, \"Dune: Part 2,\" is approximately 8.71.\n"
          ]
        }
      ],
      "source": [
        "print(str(response))"
      ]
    },
    {
      "cell_type": "markdown",
      "metadata": {
        "id": "-2LOixbcSWAD"
      },
      "source": [
        "### Task 2: Combined RAG Pipeline\n",
        "\n",
        "Now, we can simply add our tools into the `OpenAIAgent`, and off we go!"
      ]
    },
    {
      "cell_type": "code",
      "execution_count": 39,
      "metadata": {
        "id": "uxFHM2l2SWAD"
      },
      "outputs": [],
      "source": [
        "dune_agent = OpenAIAgent.from_tools(\n",
        "    tools=[auto_retrieve_tool, sql_tool],\n",
        "    verbose=True\n",
        ")"
      ]
    },
    {
      "cell_type": "code",
      "execution_count": 40,
      "metadata": {
        "id": "mYVHuBf9SWAD",
        "outputId": "2f1cf1d4-672c-4468-96e1-32cf1787f473",
        "colab": {
          "base_uri": "https://localhost:8080/"
        }
      },
      "outputs": [
        {
          "output_type": "stream",
          "name": "stdout",
          "text": [
            "Added user message to memory: What is the lowest rating of the 1st film?\n",
            "=== Calling Function ===\n",
            "Calling function: semantic-film-info with args: {\"query\":\"lowest rating of the 1st film\",\"filter_key_list\":[\"title\"],\"filter_value_list\":[\"Dune (2021 film)\"]}\n",
            "Got output: The lowest rating of the 1st film was an average grade of \"A−\" on an A+ to F scale by audiences polled by CinemaScore.\n",
            "========================\n",
            "\n"
          ]
        },
        {
          "output_type": "stream",
          "name": "stderr",
          "text": [
            "\u001b[34m\u001b[1mwandb\u001b[0m: Logged trace tree to W&B.\n"
          ]
        }
      ],
      "source": [
        "response = dune_agent.chat(\"What is the lowest rating of the 1st film?\")"
      ]
    },
    {
      "cell_type": "code",
      "execution_count": 41,
      "metadata": {
        "id": "k0w0VbomSWAD",
        "outputId": "bf5ceb0c-0512-482c-83ac-434bba0d1e61",
        "colab": {
          "base_uri": "https://localhost:8080/"
        }
      },
      "outputs": [
        {
          "output_type": "stream",
          "name": "stdout",
          "text": [
            "The lowest rating of the 1st film, \"Dune (2021 film),\" was an average grade of \"A−\" on an A+ to F scale by audiences polled by CinemaScore.\n"
          ]
        }
      ],
      "source": [
        "print(str(response))"
      ]
    },
    {
      "cell_type": "code",
      "execution_count": 42,
      "metadata": {
        "id": "BJvN-vtJSWAD",
        "outputId": "ebc1f52e-1111-4de3-895d-41755d3d65b1",
        "colab": {
          "base_uri": "https://localhost:8080/"
        }
      },
      "outputs": [
        {
          "output_type": "stream",
          "name": "stdout",
          "text": [
            "Added user message to memory: What planet does the 1st Dune movie take place on?\n",
            "=== Calling Function ===\n",
            "Calling function: semantic-film-info with args: {\"query\":\"planet where the 1st Dune movie takes place\",\"filter_key_list\":[\"title\"],\"filter_value_list\":[\"Dune (2021 film)\"]}\n",
            "Got output: Arrakis\n",
            "========================\n",
            "\n"
          ]
        },
        {
          "output_type": "stream",
          "name": "stderr",
          "text": [
            "\u001b[34m\u001b[1mwandb\u001b[0m: Logged trace tree to W&B.\n"
          ]
        }
      ],
      "source": [
        "response = dune_agent.chat(\"What planet does the 1st Dune movie take place on?\")"
      ]
    },
    {
      "cell_type": "code",
      "execution_count": 43,
      "metadata": {
        "id": "F74wGv6NSWAD",
        "outputId": "4ef326d7-4dcd-4431-db1b-02c580d44db5",
        "colab": {
          "base_uri": "https://localhost:8080/"
        }
      },
      "outputs": [
        {
          "output_type": "stream",
          "name": "stdout",
          "text": [
            "The 1st Dune movie, \"Dune (2021 film),\" takes place on the planet Arrakis.\n"
          ]
        }
      ],
      "source": [
        "print(str(response))"
      ]
    },
    {
      "cell_type": "code",
      "source": [
        "response = dune_agent.chat(\"Calculate the average review of each movie - and then discuss how the average review changed over time.\")"
      ],
      "metadata": {
        "colab": {
          "base_uri": "https://localhost:8080/"
        },
        "id": "Lvat4hmkvn3N",
        "outputId": "203fa4cc-ff80-4906-9be7-c43aaafa9018"
      },
      "execution_count": 44,
      "outputs": [
        {
          "output_type": "stream",
          "name": "stdout",
          "text": [
            "Added user message to memory: Calculate the average review of each movie - and then discuss how the average review changed over time.\n",
            "=== Calling Function ===\n",
            "Calling function: sql-query with args: {\"input\": \"Calculate the average review of Dune (2021 film)\"}\n",
            "Got output: The average review for Dune (2021 film) is approximately 8.34 out of 10.\n",
            "========================\n",
            "\n",
            "=== Calling Function ===\n",
            "Calling function: sql-query with args: {\"input\": \"Calculate the average review of Dune: Part 2\"}\n",
            "Got output: The average review rating for Dune: Part 2 is approximately 8.71 out of 10.\n",
            "========================\n",
            "\n"
          ]
        },
        {
          "output_type": "stream",
          "name": "stderr",
          "text": [
            "\u001b[34m\u001b[1mwandb\u001b[0m: Logged trace tree to W&B.\n"
          ]
        }
      ]
    },
    {
      "cell_type": "code",
      "source": [
        "print(str(response))"
      ],
      "metadata": {
        "colab": {
          "base_uri": "https://localhost:8080/"
        },
        "id": "BEOpeuAovtZM",
        "outputId": "58f71565-a04d-461e-ef6e-899d510fceb8"
      },
      "execution_count": 45,
      "outputs": [
        {
          "output_type": "stream",
          "name": "stdout",
          "text": [
            "The average review rating for \"Dune (2021 film)\" is approximately 8.34 out of 10, while the average review rating for \"Dune: Part 2\" is approximately 8.71 out of 10.\n",
            "\n",
            "Over time, the average review rating has shown an improvement from the first film to the second film. The increase in the average review rating from the first film to the second film indicates a positive trend in audience reception and appreciation for the Dune movie series. This improvement suggests that the second film, \"Dune: Part 2,\" was received even more positively than the first film, \"Dune (2021 film).\"\n"
          ]
        }
      ]
    },
    {
      "cell_type": "markdown",
      "source": [
        "####❓ Question #4:\n",
        "\n",
        "How can you verify which tool was used for which query?"
      ],
      "metadata": {
        "id": "WUVzyUtKqdUf"
      }
    },
    {
      "cell_type": "code",
      "source": [
        "response.sources"
      ],
      "metadata": {
        "colab": {
          "base_uri": "https://localhost:8080/"
        },
        "id": "0EOETZyRURF0",
        "outputId": "0aa52d78-8bc0-42d2-a0ec-4cc9840bcb49"
      },
      "execution_count": 47,
      "outputs": [
        {
          "output_type": "execute_result",
          "data": {
            "text/plain": [
              "[ToolOutput(content='The average review for Dune (2021 film) is approximately 8.34 out of 10.', tool_name='sql-query', raw_input={'input': 'Calculate the average review of Dune (2021 film)'}, raw_output=Response(response='The average review for Dune (2021 film) is approximately 8.34 out of 10.', source_nodes=[NodeWithScore(node=TextNode(id_='86734368-0050-4b81-b759-2edebc7db602', embedding=None, metadata={}, excluded_embed_metadata_keys=[], excluded_llm_metadata_keys=[], relationships={}, text='[(8.335793357933579,)]', start_char_idx=None, end_char_idx=None, text_template='{metadata_str}\\n\\n{content}', metadata_template='{key}: {value}', metadata_seperator='\\n'), score=None)], metadata={'86734368-0050-4b81-b759-2edebc7db602': {}, 'sql_query': 'SELECT AVG(Rating) AS Average_Review\\nFROM \"Dune (2021 film)\"', 'result': [(8.335793357933579,)], 'col_keys': ['Average_Review']})),\n",
              " ToolOutput(content='The average review rating for Dune: Part 2 is approximately 8.71 out of 10.', tool_name='sql-query', raw_input={'input': 'Calculate the average review of Dune: Part 2'}, raw_output=Response(response='The average review rating for Dune: Part 2 is approximately 8.71 out of 10.', source_nodes=[NodeWithScore(node=TextNode(id_='aa284d29-3142-4212-8fb8-8dcfc97133ec', embedding=None, metadata={}, excluded_embed_metadata_keys=[], excluded_llm_metadata_keys=[], relationships={}, text='[(8.706896551724139,)]', start_char_idx=None, end_char_idx=None, text_template='{metadata_str}\\n\\n{content}', metadata_template='{key}: {value}', metadata_seperator='\\n'), score=None)], metadata={'aa284d29-3142-4212-8fb8-8dcfc97133ec': {}, 'sql_query': 'SELECT AVG(Rating) AS AverageRating FROM \"Dune: Part 2\"', 'result': [(8.706896551724139,)], 'col_keys': ['AverageRating']}))]"
            ]
          },
          "metadata": {},
          "execution_count": 47
        }
      ]
    },
    {
      "cell_type": "code",
      "source": [
        "tool_names = [output.tool_name for output in response.sources]\n",
        "tool_names"
      ],
      "metadata": {
        "colab": {
          "base_uri": "https://localhost:8080/"
        },
        "id": "tSkJhHV_UeZA",
        "outputId": "bf2fe129-af45-4af8-b1cb-11bf31b09304"
      },
      "execution_count": 52,
      "outputs": [
        {
          "output_type": "execute_result",
          "data": {
            "text/plain": [
              "['sql-query', 'sql-query']"
            ]
          },
          "metadata": {},
          "execution_count": 52
        }
      ]
    },
    {
      "cell_type": "code",
      "execution_count": 53,
      "metadata": {
        "id": "D3ELqzOvSWAD"
      },
      "outputs": [],
      "source": [
        "wandb_callback.finish()"
      ]
    }
  ],
  "metadata": {
    "kernelspec": {
      "display_name": "Python 3",
      "language": "python",
      "name": "python3"
    },
    "language_info": {
      "codemirror_mode": {
        "name": "ipython",
        "version": 3
      },
      "file_extension": ".py",
      "mimetype": "text/x-python",
      "name": "python",
      "nbconvert_exporter": "python",
      "pygments_lexer": "ipython3",
      "version": "3.9.18"
    },
    "orig_nbformat": 4,
    "colab": {
      "provenance": []
    }
  },
  "nbformat": 4,
  "nbformat_minor": 0
}